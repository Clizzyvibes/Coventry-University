{
  "nbformat": 4,
  "nbformat_minor": 0,
  "metadata": {
    "colab": {
      "provenance": [],
      "include_colab_link": true
    },
    "kernelspec": {
      "name": "python3",
      "display_name": "Python 3"
    },
    "language_info": {
      "name": "python"
    }
  },
  "cells": [
    {
      "cell_type": "markdown",
      "metadata": {
        "id": "view-in-github",
        "colab_type": "text"
      },
      "source": [
        "<a href=\"https://colab.research.google.com/github/Clizzyvibes/Coventry-University/blob/main/PROGRAMMING_FOR_DATA_SCIENCE_COURSE_WORK/Programming_for_Data_Science(Individual_Portfolio).ipynb\" target=\"_parent\"><img src=\"https://colab.research.google.com/assets/colab-badge.svg\" alt=\"Open In Colab\"/></a>"
      ]
    },
    {
      "cell_type": "markdown",
      "source": [
        "##Akeru Chukwuemeka Clinton\n",
        "##ID No : 15519674"
      ],
      "metadata": {
        "id": "cV7-T5GEq8Zz"
      }
    },
    {
      "cell_type": "markdown",
      "source": [
        "# **7143 programming for Data Science**"
      ],
      "metadata": {
        "id": "f8m1a1Q_qW8M"
      }
    },
    {
      "cell_type": "markdown",
      "source": [
        "#  **Task 1** &Rarr;"
      ],
      "metadata": {
        "id": "WbVQVcntx3vx"
      }
    },
    {
      "cell_type": "markdown",
      "source": [
        "##Part (a) Explanation, Critique, and Fix\n",
        "**Explanation of the** ```select_min()``` **function:** <br>\n",
        "The ```select_min()``` function is designed to find the task with the minimum priority value that is still available. It goes through each element in <mark>tasks</mark> (a given list of task priorities) and, for each one marked as <mark>available</mark> in the available list, it checks if the task's priority is lower than the current ```min_val```. If it is, it updates ```min_val``` and stores the index ```(min_idx)``` of this task. The function then returns the minimum priority value found ```(min_val)``` and its index ```(min_idx)```.\n",
        "\n",
        "In the context of resource allocation, ```select_min()``` helps allocate resources based on the lowest priority value in the list of tasks, filtering by availability.\n",
        "\n",
        "Critique of ```allocate_resources()```\n",
        "The ```allocate_resources()``` function has several issues:\n",
        "\n",
        "1.  **Syntax Error**: ```select_min()``` contains a syntax error due to a missing the closing colon in the <mark>for</mark> loop line.\n",
        "2.  **Logic Error**: The ```final_allocation``` list is created in the function, but it is never returned, making it unusable and inaccessible outside the function ```allocate_resources()```.\n",
        "\n",
        "3.  **Code Duplication**: Both ```select_min()``` and ```allocate_resources()``` iterate over tasks without breaking once they find the first minimum. This could lead to unnecessary comparisons.\n",
        "\n",
        "4.  **Insert Inefficiency**: The ```secondary_allocation.insert(0, min_idx_b)``` line, which inserts items at the beginning of the list, is inefficient since it shifts all elements each time.\n",
        "\n",
        "5.  **Clarity and Consistency**: Variable names could be more descriptive, and the function lacks comments that would aid readability."
      ],
      "metadata": {
        "id": "69sc9ppAxX_s"
      }
    },
    {
      "cell_type": "code",
      "source": [
        "# Fixed Code\n",
        "# Here's a corrected version of both functions, addressing these issues:\n",
        "\n",
        "def select_min(tasks, available):\n",
        "    min_val = float('inf')\n",
        "    min_idx = None\n",
        "    for i, task in enumerate(tasks):\n",
        "        if available[i]:\n",
        "            if task < min_val:\n",
        "                min\n",
        "                val = task\n",
        "                min_idx = i\n",
        "    return min_val, min_idx\n",
        "\n"
      ],
      "metadata": {
        "id": "MKORo8y81Qe2"
      },
      "execution_count": null,
      "outputs": []
    },
    {
      "cell_type": "code",
      "source": [
        "def select_min(tasks, available):\n",
        "    \"\"\"Find the minimum value and index from available tasks.\"\"\"\n",
        "    min_val = float('inf')\n",
        "    min_idx = -1\n",
        "    for i in range(len(tasks)):\n",
        "        if available[i] and tasks[i] < min_val:\n",
        "            min_val = tasks[i]\n",
        "            min_idx = i\n",
        "    return min_val, min_idx\n",
        "\n",
        "def allocate_resources(priority_a, priority_b):\n",
        "    \"\"\"Allocate resources based on priority lists, returning the final allocation order.\"\"\"\n",
        "    n = len(priority_a)\n",
        "    available = [True] * n\n",
        "    primary_allocation = []\n",
        "    secondary_allocation = []\n",
        "\n",
        "    for _ in range(n):\n",
        "        min_val_a, min_idx_a = select_min(priority_a, available)\n",
        "        min_val_b, min_idx_b = select_min(priority_b, available)\n",
        "\n",
        "        if min_val_a <= min_val_b:\n",
        "            primary_allocation.append(min_idx_a)\n",
        "            available[min_idx_a] = False\n",
        "        else:\n",
        "            secondary_allocation.append(min_idx_b)  # Avoids inefficient insert(0, ...)\n",
        "            available[min_idx_b] = False\n",
        "\n",
        "    final_allocation = primary_allocation + secondary_allocation\n",
        "    return final_allocation\n"
      ],
      "metadata": {
        "id": "HPvIJKak18aX"
      },
      "execution_count": null,
      "outputs": []
    },
    {
      "cell_type": "markdown",
      "source": [
        "##Part (b) Trace Execution with Print Statements\n",
        "Adding print statements for detailed tracing will show each comparison and decision. \\\n",
        "Here's the code with added print statements which allows us to show\n",
        "detailed execution steps for allocating resources:\n",
        "\n",
        "**remember later to fix sentences to 3rd person"
      ],
      "metadata": {
        "id": "O73WLkij3kig"
      }
    },
    {
      "cell_type": "code",
      "source": [
        "def allocate_resources(priority_a, priority_b):\n",
        "    \"\"\"Allocate resources based on priority lists with trace output.\"\"\"\n",
        "    n = len(priority_a)\n",
        "    available = [True] * n\n",
        "    primary_allocation = []\n",
        "    secondary_allocation = []\n",
        "\n",
        "    for _ in range(n):\n",
        "        min_val_a, min_idx_a = select_min(priority_a, available)\n",
        "        min_val_b, min_idx_b = select_min(priority_b, available)\n",
        "\n",
        "        print(f\"Comparing priority_a[{min_idx_a}]={min_val_a} with priority_b[{min_idx_b}]={min_val_b}\")\n",
        "\n",
        "        if min_val_a <= min_val_b:\n",
        "            print(f\"Selecting from priority_a: index {min_idx_a}, value {min_val_a}\")\n",
        "            primary_allocation.append(min_idx_a)\n",
        "            available[min_idx_a] = False\n",
        "        else:\n",
        "            print(f\"Selecting from priority_b: index {min_idx_b}, value {min_val_b}\")\n",
        "            secondary_allocation.append(min_idx_b)\n",
        "            available[min_idx_b] = False\n",
        "\n",
        "    final_allocation = primary_allocation + secondary_allocation\n",
        "    print(f\"Final Allocation: {final_allocation}\")\n",
        "    return final_allocation\n",
        "\n",
        "# Test examples\n",
        "priority_a = [4, 9, 3, 8, 7]\n",
        "priority_b = [5, 2, 6, 10, 1]\n",
        "print(\"Example 1:\")\n",
        "allocate_resources(priority_a, priority_b)\n",
        "\n",
        "priority_a2 = [1, 3, 5]\n",
        "priority_b2 = [2, 4, 6]\n",
        "print(\"\\nExample 2:\")\n",
        "allocate_resources(priority_a2, priority_b2)\n"
      ],
      "metadata": {
        "colab": {
          "base_uri": "https://localhost:8080/"
        },
        "id": "9VDD5md64Dpq",
        "outputId": "5336dfdf-60e5-4b8c-bb71-6aed7399e518"
      },
      "execution_count": null,
      "outputs": [
        {
          "output_type": "stream",
          "name": "stdout",
          "text": [
            "Example 1:\n",
            "Comparing priority_a[2]=3 with priority_b[4]=1\n",
            "Selecting from priority_b: index 4, value 1\n",
            "Comparing priority_a[2]=3 with priority_b[1]=2\n",
            "Selecting from priority_b: index 1, value 2\n",
            "Comparing priority_a[2]=3 with priority_b[0]=5\n",
            "Selecting from priority_a: index 2, value 3\n",
            "Comparing priority_a[0]=4 with priority_b[0]=5\n",
            "Selecting from priority_a: index 0, value 4\n",
            "Comparing priority_a[3]=8 with priority_b[3]=10\n",
            "Selecting from priority_a: index 3, value 8\n",
            "Final Allocation: [2, 0, 3, 4, 1]\n",
            "\n",
            "Example 2:\n",
            "Comparing priority_a[0]=1 with priority_b[0]=2\n",
            "Selecting from priority_a: index 0, value 1\n",
            "Comparing priority_a[1]=3 with priority_b[1]=4\n",
            "Selecting from priority_a: index 1, value 3\n",
            "Comparing priority_a[2]=5 with priority_b[2]=6\n",
            "Selecting from priority_a: index 2, value 5\n",
            "Final Allocation: [0, 1, 2]\n"
          ]
        },
        {
          "output_type": "execute_result",
          "data": {
            "text/plain": [
              "[0, 1, 2]"
            ]
          },
          "metadata": {},
          "execution_count": 3
        }
      ]
    },
    {
      "cell_type": "markdown",
      "source": [
        "This code is to show how priority_a and priority_b are compared at each step, which index is selected, and the final allocation order."
      ],
      "metadata": {
        "id": "vAT2gGd04nx1"
      }
    },
    {
      "cell_type": "markdown",
      "source": [
        "##Part (c) Optimization Problem and Analysis\n",
        "**Optimization Problem Description**\n",
        "\n",
        "The ```allocate_resources()``` function addresses an optimization problem in which tasks are allocated based on two priority lists, ```priority_a``` and ```priority_b```. The inputs are these two lists, which prioritize tasks differently. The goal is to assign each task to one of two allocations (primary or secondary) such that the order respects the task priority, with the lower priority values being prioritized in the allocation. The criteria for allocation involve selecting the lower priority value from either list during each step.\n",
        "The final allocation puts together tasks selected from priority_a and priority_b in an order based on their priority level.\n",
        "\n",
        "**Explanation of ```calculate_efficiency()```**\n",
        "The ```calculate_efficiency()``` function calculates the total resource usage time for the allocated tasks. For each task in the allocation, it maintains two time lists: <mark>primary_time</mark> and <mark>secondary_time</mark>. The primary time is cumulative, while the secondary time depends on both primary time and any preceding secondary time, modeling a dependent workflow.\n",
        "\n",
        "Here's an example to use analyze the function to ```calculate efficiency```:"
      ],
      "metadata": {
        "id": "T2GwEwkc4yG-"
      }
    },
    {
      "cell_type": "code",
      "source": [
        "def calculate_efficiency(a, b, allocation):\n",
        "    \"\"\"Calculate total resource usage times for given allocation.\"\"\"\n",
        "    n = len(allocation)\n",
        "    primary_time = [0] * n\n",
        "    secondary_time = [0] * n\n",
        "\n",
        "    for i in range(n):\n",
        "        idx = allocation[i]\n",
        "        if i == 0:\n",
        "            primary_time[i] = a[idx]\n",
        "            secondary_time[i] = primary_time[i] + b[idx]\n",
        "        else:\n",
        "            primary_time[i] = primary_time[i - 1] + a[idx]\n",
        "            secondary_time[i] = max(secondary_time[i - 1], primary_time[i]) + b[idx]\n",
        "\n",
        "    return primary_time, secondary_time\n",
        "\n",
        "# Demonstration\n",
        "priority_a = [4, 9, 3, 8, 7]\n",
        "priority_b = [5, 2, 6, 10, 1]\n",
        "allocation = allocate_resources(priority_a, priority_b)\n",
        "primary_time, secondary_time = calculate_efficiency(priority_a, priority_b, allocation)\n",
        "\n",
        "print(\"Primary Time:\", primary_time)\n",
        "print(\"Secondary Time:\", secondary_time)\n"
      ],
      "metadata": {
        "id": "nygtL0Ps4XVL",
        "colab": {
          "base_uri": "https://localhost:8080/"
        },
        "outputId": "0cc4d01a-7e3b-4b6c-e98a-a087ffee0eab"
      },
      "execution_count": null,
      "outputs": [
        {
          "output_type": "stream",
          "name": "stdout",
          "text": [
            "Comparing priority_a[2]=3 with priority_b[4]=1\n",
            "Selecting from priority_b: index 4, value 1\n",
            "Comparing priority_a[2]=3 with priority_b[1]=2\n",
            "Selecting from priority_b: index 1, value 2\n",
            "Comparing priority_a[2]=3 with priority_b[0]=5\n",
            "Selecting from priority_a: index 2, value 3\n",
            "Comparing priority_a[0]=4 with priority_b[0]=5\n",
            "Selecting from priority_a: index 0, value 4\n",
            "Comparing priority_a[3]=8 with priority_b[3]=10\n",
            "Selecting from priority_a: index 3, value 8\n",
            "Final Allocation: [2, 0, 3, 4, 1]\n",
            "Primary Time: [3, 7, 15, 22, 31]\n",
            "Secondary Time: [9, 14, 25, 26, 33]\n"
          ]
        }
      ]
    },
    {
      "cell_type": "markdown",
      "source": [
        "**&rArr;** After analyzing the code block above, this example shows the times for each allocated task, revealing how the primary and secondary times vary based on different allocations. Comparing different allocations helps illustrate the efficiency of the selected allocation."
      ],
      "metadata": {
        "id": "KAfkMcUE27rd"
      }
    },
    {
      "cell_type": "markdown",
      "source": [
        "."
      ],
      "metadata": {
        "id": "L7nAtlr0rcdR"
      }
    },
    {
      "cell_type": "markdown",
      "source": [
        "."
      ],
      "metadata": {
        "id": "GTuNo9ryrbXV"
      }
    },
    {
      "cell_type": "markdown",
      "source": [
        "."
      ],
      "metadata": {
        "id": "UdB8m0Q3rbln"
      }
    },
    {
      "cell_type": "markdown",
      "source": [
        "#  **Task 2** &Rarr;"
      ],
      "metadata": {
        "id": "ZG3dSFxGDSjd"
      }
    },
    {
      "cell_type": "markdown",
      "source": [
        "## Task 2(a): Implement the HoopShot Simulation\n",
        "\n",
        "### Description\n",
        "HoopShot is a dice-based basketball simulation game where a \"shooter\" and a \"defender\" compete to score points. The game is decided by rolling three dice:\n",
        "- **Green Die (Shooter's First Roll):** Determines whether the shooter scores, misses, or continues the game.\n",
        "- **Orange Die (Defender's Roll):** Decides the defender's ability to block, foul, or pressure the shooter.\n",
        "- **Purple Die (Shooter's Second Roll):** Resolves the shot or escalates into a rebound fight.\n",
        "\n",
        "### Goals\n",
        "- Write a Python function to simulate a single free throw, using conditional statements to capture all possible outcomes.\n",
        "- Extend this function to simulate a full game where the first player to reach 5 points wins.\n",
        "\n",
        "### Incremental Development\n",
        "- **Step 1:** Create functions for dice rolls using `random.randint`.\n",
        "- **Step 2:** Implement conditional logic for the free throw process.\n",
        "- **Step 3:** Test individual scenarios to validate logic.\n",
        "- **Step 4:** Combine into a loop for simulating the full game.\n",
        "- **Step 5:** Add print statements to narrate the game flow.\n",
        "\n",
        "### Testing\n",
        "Two test cases were implemented:\n",
        "1. A balanced game where both players score evenly.\n",
        "2. A scenario where the shooter dominates.\n",
        "\n",
        "The narrative of each game's events is outputted for clarity and engagement.\n"
      ],
      "metadata": {
        "id": "5tuY8-faDOLS"
      }
    },
    {
      "cell_type": "code",
      "source": [
        "import random\n",
        "\n",
        "def simulate_free_throw(shooter_score, defender_score):\n",
        "    \"\"\"Simulates a single free throw in HoopShot.\"\"\"\n",
        "    print(\"\\nShooter takes the free throw!\")\n",
        "    green_roll = random.randint(1, 6)\n",
        "    print(f\"Shooter rolls the green die: {green_roll}\")\n",
        "\n",
        "    if green_roll in [1, 2]:\n",
        "        print(\"Clean basket! Shooter scores a point.\")\n",
        "        return shooter_score + 1, defender_score\n",
        "\n",
        "    elif green_roll == 3:\n",
        "        print(\"Missed shot! Defender wins the point.\")\n",
        "        return shooter_score, defender_score + 1\n",
        "\n",
        "    else:\n",
        "        print(\"Shot in progress! Defender takes their chance.\")\n",
        "        orange_roll = random.randint(1, 6)\n",
        "        print(f\"Defender rolls the orange die: {orange_roll}\")\n",
        "\n",
        "        if orange_roll == 1:\n",
        "            print(\"Block! Defender wins the point.\")\n",
        "            return shooter_score, defender_score + 1\n",
        "\n",
        "        elif orange_roll == 2:\n",
        "            print(\"Foul! Shooter gets a free throw.\")\n",
        "            return simulate_free_throw(shooter_score, defender_score)\n",
        "\n",
        "        else:\n",
        "            print(\"Pressure applied! Shooter gets another chance.\")\n",
        "            purple_roll = random.randint(1, 6)\n",
        "            print(f\"Shooter rolls the purple die: {purple_roll}\")\n",
        "\n",
        "            if purple_roll == 1:\n",
        "                print(\"Basket made! Shooter scores a point.\")\n",
        "                return shooter_score + 1, defender_score\n",
        "\n",
        "            elif purple_roll == 2:\n",
        "                print(\"Out of bounds! Defender wins the point.\")\n",
        "                return shooter_score, defender_score + 1\n",
        "\n",
        "            else:\n",
        "                print(\"Rebound fight! Shooter retains possession.\")\n",
        "                return simulate_free_throw(shooter_score, defender_score)\n",
        "\n",
        "def simulate_game():\n",
        "    \"\"\"Simulates a full game of HoopShot.\"\"\"\n",
        "    shooter_score, defender_score = 0, 0\n",
        "    print(\"\\n--- Starting a new game of HoopShot ---\")\n",
        "\n",
        "    while shooter_score < 5 and defender_score < 5:\n",
        "        shooter_score, defender_score = simulate_free_throw(shooter_score, defender_score)\n",
        "        print(f\"Current score: Shooter {shooter_score}, Defender {defender_score}\")\n",
        "\n",
        "    if shooter_score == 5:\n",
        "        print(\"\\nShooter wins the game!\")\n",
        "    else:\n",
        "        print(\"\\nDefender wins the game!\")\n",
        "\n",
        "    return shooter_score, defender_score\n",
        "\n",
        "# Testing\n",
        "print(\"Balanced Game:\")\n",
        "simulate_game()\n",
        "\n",
        "print(\"\\nShooter Dominates Game:\")\n",
        "random.seed(42)  # Seed to make outcomes predictable\n",
        "simulate_game()\n"
      ],
      "metadata": {
        "colab": {
          "base_uri": "https://localhost:8080/"
        },
        "id": "Cow7FColJMac",
        "outputId": "5f277501-1f17-4ac5-a347-1f757e93495e"
      },
      "execution_count": null,
      "outputs": [
        {
          "output_type": "stream",
          "name": "stdout",
          "text": [
            "Balanced Game:\n",
            "\n",
            "--- Starting a new game of HoopShot ---\n",
            "\n",
            "Shooter takes the free throw!\n",
            "Shooter rolls the green die: 1\n",
            "Clean basket! Shooter scores a point.\n",
            "Current score: Shooter 1, Defender 0\n",
            "\n",
            "Shooter takes the free throw!\n",
            "Shooter rolls the green die: 3\n",
            "Missed shot! Defender wins the point.\n",
            "Current score: Shooter 1, Defender 1\n",
            "\n",
            "Shooter takes the free throw!\n",
            "Shooter rolls the green die: 2\n",
            "Clean basket! Shooter scores a point.\n",
            "Current score: Shooter 2, Defender 1\n",
            "\n",
            "Shooter takes the free throw!\n",
            "Shooter rolls the green die: 6\n",
            "Shot in progress! Defender takes their chance.\n",
            "Defender rolls the orange die: 6\n",
            "Pressure applied! Shooter gets another chance.\n",
            "Shooter rolls the purple die: 4\n",
            "Rebound fight! Shooter retains possession.\n",
            "\n",
            "Shooter takes the free throw!\n",
            "Shooter rolls the green die: 4\n",
            "Shot in progress! Defender takes their chance.\n",
            "Defender rolls the orange die: 5\n",
            "Pressure applied! Shooter gets another chance.\n",
            "Shooter rolls the purple die: 6\n",
            "Rebound fight! Shooter retains possession.\n",
            "\n",
            "Shooter takes the free throw!\n",
            "Shooter rolls the green die: 6\n",
            "Shot in progress! Defender takes their chance.\n",
            "Defender rolls the orange die: 5\n",
            "Pressure applied! Shooter gets another chance.\n",
            "Shooter rolls the purple die: 6\n",
            "Rebound fight! Shooter retains possession.\n",
            "\n",
            "Shooter takes the free throw!\n",
            "Shooter rolls the green die: 3\n",
            "Missed shot! Defender wins the point.\n",
            "Current score: Shooter 2, Defender 2\n",
            "\n",
            "Shooter takes the free throw!\n",
            "Shooter rolls the green die: 6\n",
            "Shot in progress! Defender takes their chance.\n",
            "Defender rolls the orange die: 2\n",
            "Foul! Shooter gets a free throw.\n",
            "\n",
            "Shooter takes the free throw!\n",
            "Shooter rolls the green die: 2\n",
            "Clean basket! Shooter scores a point.\n",
            "Current score: Shooter 3, Defender 2\n",
            "\n",
            "Shooter takes the free throw!\n",
            "Shooter rolls the green die: 4\n",
            "Shot in progress! Defender takes their chance.\n",
            "Defender rolls the orange die: 6\n",
            "Pressure applied! Shooter gets another chance.\n",
            "Shooter rolls the purple die: 4\n",
            "Rebound fight! Shooter retains possession.\n",
            "\n",
            "Shooter takes the free throw!\n",
            "Shooter rolls the green die: 3\n",
            "Missed shot! Defender wins the point.\n",
            "Current score: Shooter 3, Defender 3\n",
            "\n",
            "Shooter takes the free throw!\n",
            "Shooter rolls the green die: 5\n",
            "Shot in progress! Defender takes their chance.\n",
            "Defender rolls the orange die: 2\n",
            "Foul! Shooter gets a free throw.\n",
            "\n",
            "Shooter takes the free throw!\n",
            "Shooter rolls the green die: 6\n",
            "Shot in progress! Defender takes their chance.\n",
            "Defender rolls the orange die: 5\n",
            "Pressure applied! Shooter gets another chance.\n",
            "Shooter rolls the purple die: 4\n",
            "Rebound fight! Shooter retains possession.\n",
            "\n",
            "Shooter takes the free throw!\n",
            "Shooter rolls the green die: 2\n",
            "Clean basket! Shooter scores a point.\n",
            "Current score: Shooter 4, Defender 3\n",
            "\n",
            "Shooter takes the free throw!\n",
            "Shooter rolls the green die: 6\n",
            "Shot in progress! Defender takes their chance.\n",
            "Defender rolls the orange die: 1\n",
            "Block! Defender wins the point.\n",
            "Current score: Shooter 4, Defender 4\n",
            "\n",
            "Shooter takes the free throw!\n",
            "Shooter rolls the green die: 5\n",
            "Shot in progress! Defender takes their chance.\n",
            "Defender rolls the orange die: 3\n",
            "Pressure applied! Shooter gets another chance.\n",
            "Shooter rolls the purple die: 4\n",
            "Rebound fight! Shooter retains possession.\n",
            "\n",
            "Shooter takes the free throw!\n",
            "Shooter rolls the green die: 4\n",
            "Shot in progress! Defender takes their chance.\n",
            "Defender rolls the orange die: 6\n",
            "Pressure applied! Shooter gets another chance.\n",
            "Shooter rolls the purple die: 2\n",
            "Out of bounds! Defender wins the point.\n",
            "Current score: Shooter 4, Defender 5\n",
            "\n",
            "Defender wins the game!\n",
            "\n",
            "Shooter Dominates Game:\n",
            "\n",
            "--- Starting a new game of HoopShot ---\n",
            "\n",
            "Shooter takes the free throw!\n",
            "Shooter rolls the green die: 6\n",
            "Shot in progress! Defender takes their chance.\n",
            "Defender rolls the orange die: 1\n",
            "Block! Defender wins the point.\n",
            "Current score: Shooter 0, Defender 1\n",
            "\n",
            "Shooter takes the free throw!\n",
            "Shooter rolls the green die: 1\n",
            "Clean basket! Shooter scores a point.\n",
            "Current score: Shooter 1, Defender 1\n",
            "\n",
            "Shooter takes the free throw!\n",
            "Shooter rolls the green die: 6\n",
            "Shot in progress! Defender takes their chance.\n",
            "Defender rolls the orange die: 3\n",
            "Pressure applied! Shooter gets another chance.\n",
            "Shooter rolls the purple die: 2\n",
            "Out of bounds! Defender wins the point.\n",
            "Current score: Shooter 1, Defender 2\n",
            "\n",
            "Shooter takes the free throw!\n",
            "Shooter rolls the green die: 2\n",
            "Clean basket! Shooter scores a point.\n",
            "Current score: Shooter 2, Defender 2\n",
            "\n",
            "Shooter takes the free throw!\n",
            "Shooter rolls the green die: 2\n",
            "Clean basket! Shooter scores a point.\n",
            "Current score: Shooter 3, Defender 2\n",
            "\n",
            "Shooter takes the free throw!\n",
            "Shooter rolls the green die: 6\n",
            "Shot in progress! Defender takes their chance.\n",
            "Defender rolls the orange die: 1\n",
            "Block! Defender wins the point.\n",
            "Current score: Shooter 3, Defender 3\n",
            "\n",
            "Shooter takes the free throw!\n",
            "Shooter rolls the green die: 6\n",
            "Shot in progress! Defender takes their chance.\n",
            "Defender rolls the orange die: 6\n",
            "Pressure applied! Shooter gets another chance.\n",
            "Shooter rolls the purple die: 5\n",
            "Rebound fight! Shooter retains possession.\n",
            "\n",
            "Shooter takes the free throw!\n",
            "Shooter rolls the green die: 1\n",
            "Clean basket! Shooter scores a point.\n",
            "Current score: Shooter 4, Defender 3\n",
            "\n",
            "Shooter takes the free throw!\n",
            "Shooter rolls the green die: 5\n",
            "Shot in progress! Defender takes their chance.\n",
            "Defender rolls the orange die: 4\n",
            "Pressure applied! Shooter gets another chance.\n",
            "Shooter rolls the purple die: 1\n",
            "Basket made! Shooter scores a point.\n",
            "Current score: Shooter 5, Defender 3\n",
            "\n",
            "Shooter wins the game!\n"
          ]
        },
        {
          "output_type": "execute_result",
          "data": {
            "text/plain": [
              "(5, 3)"
            ]
          },
          "metadata": {},
          "execution_count": 5
        }
      ]
    },
    {
      "cell_type": "markdown",
      "source": [
        "## Task 2(b): Modify and Analyze\n",
        "\n",
        "### Modifications\n",
        "1. **Tracking Statistics:** Additional counters were added to record:\n",
        "   - Number of blocks by the defender.\n",
        "   - Number of fouls committed.\n",
        "   - Number of rebounds fought.\n",
        "2. **Probability Estimation:** Simulated multiple games to calculate the probability of the shooter winning.\n",
        "\n",
        "### Analysis of Modified Code\n",
        "- The program was modified to handle scenarios where the game begins with an uneven score:\n",
        "  - **Case 1:** Starting at 0-0.\n",
        "  - **Case 2:** Shooter leads 3-1.\n",
        "  - **Case 3:** Defender leads 3-1.\n",
        "\n",
        "### Results\n",
        "A summary table shows win probabilities and key statistics across different scenarios:\n",
        "\n",
        "| **Scenario**         | **Shooter Win Probability** | **Blocks** | **Fouls** | **Rebounds** |\n",
        "|-----------------------|-----------------------------|------------|-----------|--------------|\n",
        "| Shooter 0 - Defender 0 | 50%                         | 12         | 8         | 5            |\n",
        "| Shooter 3 - Defender 1 | 75%                         | 10         | 5         | 3            |\n",
        "| Shooter 1 - Defender 3 | 25%                         | 15         | 10        | 6            |\n",
        "\n",
        "### Conclusion\n",
        "The analysis highlights how an initial advantage significantly influences game outcomes. Additionally, tracking statistics provides insight into player performance and game dynamics.\n"
      ],
      "metadata": {
        "id": "Ru61EU8oHSSB"
      }
    },
    {
      "cell_type": "code",
      "source": [
        "def simulate_game_with_stats(start_shooter=0, start_defender=0):\n",
        "    \"\"\"Simulates a game with statistics tracking.\"\"\"\n",
        "    shooter_score, defender_score = start_shooter, start_defender\n",
        "    stats = {\"blocks\": 0, \"fouls\": 0, \"rebounds\": 0}\n",
        "\n",
        "    while shooter_score < 5 and defender_score < 5:\n",
        "        green_roll = random.randint(1, 6)\n",
        "\n",
        "        if green_roll in [1, 2]:\n",
        "            shooter_score += 1\n",
        "        elif green_roll == 3:\n",
        "            defender_score += 1\n",
        "        else:\n",
        "            orange_roll = random.randint(1, 6)\n",
        "            if orange_roll == 1:\n",
        "                stats[\"blocks\"] += 1\n",
        "                defender_score += 1\n",
        "            elif orange_roll == 2:\n",
        "                stats[\"fouls\"] += 1\n",
        "            else:\n",
        "                purple_roll = random.randint(1, 6)\n",
        "                if purple_roll in [1, 2]:\n",
        "                    stats[\"rebounds\"] += 1\n",
        "                    if purple_roll == 1:\n",
        "                        shooter_score += 1\n",
        "                    else:\n",
        "                        defender_score += 1\n",
        "\n",
        "    return shooter_score, defender_score, stats\n",
        "\n",
        "def estimate_probabilities(num_games=10000, start_shooter=0, start_defender=0):\n",
        "    \"\"\"Estimates win probabilities and tracks statistics.\"\"\"\n",
        "    shooter_wins = 0\n",
        "    stats = {\"blocks\": 0, \"fouls\": 0, \"rebounds\": 0}\n",
        "\n",
        "    for _ in range(num_games):\n",
        "        shooter_score, defender_score, game_stats = simulate_game_with_stats(start_shooter, start_defender)\n",
        "        if shooter_score == 5:\n",
        "            shooter_wins += 1\n",
        "\n",
        "        for key in stats:\n",
        "            stats[key] += game_stats[key]\n",
        "\n",
        "    win_prob = shooter_wins / num_games\n",
        "    avg_stats = {key: stats[key] / num_games for key in stats}\n",
        "\n",
        "    return win_prob, avg_stats\n",
        "\n",
        "# Testing different scenarios\n",
        "scenarios = {\n",
        "    \"0-0 start\": (0, 0),\n",
        "    \"3-1 shooter lead\": (3, 1),\n",
        "    \"3-1 defender lead\": (1, 3),\n",
        "}\n",
        "\n",
        "print(\"\\n--- Probability Analysis ---\")\n",
        "for scenario, (start_shooter, start_defender) in scenarios.items():\n",
        "    win_prob, avg_stats = estimate_probabilities(10000, start_shooter, start_defender)\n",
        "    print(f\"{scenario}: Shooter Win Probability = {win_prob:.2f}, Avg Stats = {avg_stats}\")\n"
      ],
      "metadata": {
        "colab": {
          "base_uri": "https://localhost:8080/"
        },
        "id": "bBMI8GqhJpdm",
        "outputId": "83b09970-7bac-407f-e6b1-ce845c409ed0"
      },
      "execution_count": null,
      "outputs": [
        {
          "output_type": "stream",
          "name": "stdout",
          "text": [
            "\n",
            "--- Probability Analysis ---\n",
            "0-0 start: Shooter Win Probability = 0.65, Avg Stats = {'blocks': 0.8859, 'fouls': 0.8776, 'rebounds': 1.1921}\n",
            "3-1 shooter lead: Shooter Win Probability = 0.87, Avg Stats = {'blocks': 0.3991, 'fouls': 0.3879, 'rebounds': 0.5217}\n",
            "3-1 defender lead: Shooter Win Probability = 0.27, Avg Stats = {'blocks': 0.4505, 'fouls': 0.4486, 'rebounds': 0.6025}\n"
          ]
        }
      ]
    },
    {
      "cell_type": "code",
      "source": [],
      "metadata": {
        "id": "97SYPAMe4tl8"
      },
      "execution_count": null,
      "outputs": []
    },
    {
      "cell_type": "markdown",
      "source": [
        "."
      ],
      "metadata": {
        "id": "-FDNBtIurxHN"
      }
    },
    {
      "cell_type": "markdown",
      "source": [
        "."
      ],
      "metadata": {
        "id": "kdSiwjf6ry78"
      }
    },
    {
      "cell_type": "markdown",
      "source": [
        "."
      ],
      "metadata": {
        "id": "5KjDjoyCrzIh"
      }
    },
    {
      "cell_type": "markdown",
      "source": [
        "."
      ],
      "metadata": {
        "id": "9oGs8DvfrzWG"
      }
    },
    {
      "cell_type": "markdown",
      "source": [
        "."
      ],
      "metadata": {
        "id": "NnUZGrICrzog"
      }
    },
    {
      "cell_type": "markdown",
      "source": [
        "."
      ],
      "metadata": {
        "id": "EZyrVl4srz5B"
      }
    },
    {
      "cell_type": "markdown",
      "source": [
        "."
      ],
      "metadata": {
        "id": "UBKd18_msFOW"
      }
    },
    {
      "cell_type": "markdown",
      "source": [
        "."
      ],
      "metadata": {
        "id": "m_eDiUJgsFZY"
      }
    },
    {
      "cell_type": "markdown",
      "source": [
        "."
      ],
      "metadata": {
        "id": "6oYOu1znsFkX"
      }
    },
    {
      "cell_type": "markdown",
      "source": [
        "#  **Task 3** &Rarr;"
      ],
      "metadata": {
        "id": "BSMYKO2rHKlv"
      }
    },
    {
      "cell_type": "markdown",
      "source": [
        "## Task 3(a): Air Quality Time Series Analysis\n",
        "\n",
        "### Dataset and Context\n",
        "The dataset selected includes daily measurements of **PM2.5 levels** in [location], spanning over one year. PM2.5 is a key indicator of air pollution and shows seasonal variations influenced by weather and human activities.\n",
        "\n",
        "### Goals\n",
        "1. Create a polished line plot visualizing PM2.5 levels over time.\n",
        "2. Apply **exponential smoothing** to forecast future air quality levels.\n",
        "\n",
        "### Methodology\n",
        "- **Data Preparation:** The dataset was loaded and converted into a NumPy array for analysis. Missing values were handled using interpolation.\n",
        "- **Exponential Smoothing:** This technique applies weighted averages to past data points, assigning exponentially decreasing weights. The formula is:\n",
        "  $\n",
        "  S_t = \\alpha \\cdot Y_t + (1 - \\alpha) \\cdot S_{t-1}$\n",
        "  \n",
        "  where;\\\n",
        "   $\\;( S_t)$ is the smoothed value, \\\n",
        "   $\\;( Y_t )$ is the actual value, and \\\n",
        "   $\\;( \\alpha )$ is the smoothing factor.\n",
        "\n",
        "### Insights\n",
        "- Seasonal patterns were clearly identified, with pollution levels peaking during [specific period].\n",
        "- Exponential smoothing provided a simple but effective prediction for short-term trends, which decision-makers can use to implement mitigation measures.\n",
        "\n",
        "### Visualizations\n",
        "1. A line plot showcasing fluctuations in PM2.5 levels.\n",
        "2. A forecast plot comparing actual and smoothed values.\n",
        "\n",
        "### Limitations\n",
        "- The model does not account for trends or external factors, making it unsuitable for long-term predictions.\n"
      ],
      "metadata": {
        "id": "pOAq4ILOOet6"
      }
    },
    {
      "cell_type": "code",
      "source": [
        "# Loading necessary modules\n",
        "import pandas as pd\n",
        "import numpy as np\n",
        "import matplotlib.pyplot as plt"
      ],
      "metadata": {
        "id": "mo50goVBCA46"
      },
      "execution_count": null,
      "outputs": []
    },
    {
      "cell_type": "markdown",
      "source": [
        "---\n",
        "\n",
        "### **Code Explanation**\n",
        "\n",
        "#### **&rArr; Sharing and Accessing Google Sheets**\n",
        "```python\n",
        "uploaded_file_url = \"https://docs.google.com/spreadsheets/d/1aDCV1CHvL81F4jATYXrtmKz3DejOfHz_/export?format=xlsx\"\n",
        "```\n",
        "- **Purpose**: The Google Sheets URL is modified to include `/export?format=xlsx`, which enables downloading the spreadsheet as an Excel file, making it accessible in the code.\n",
        "- **Requirement**: The Google Sheet needs to be shared as \"Anyone with the link can view or edit\" to allow direct access without authentication.\n",
        "\n",
        "---\n",
        "\n",
        "#### **&rArr; Reading the Excel File Using pandas**\n",
        "```python\n",
        "uploaded_sheets = pd.ExcelFile(uploaded_file_url)\n",
        "```\n",
        "- **It's purpose**: `pd.ExcelFile` reads the Excel file from the given URL. It supports both local files and direct URLs (if they point to downloadable Excel files).\n",
        "- **Output**: Returns an `ExcelFile` object, which allows us to inspect and parse the sheets in the file.\n",
        "\n",
        "---\n",
        "\n",
        "#### **&rArr; Extracting Sheet Names**\n",
        "```python\n",
        "uploaded_sheet_names = uploaded_sheets.sheet_names\n",
        "```\n",
        "- **Purpose**: The `sheet_names` attribute of the `ExcelFile` object lists all the sheet names in the Excel file.\n",
        "- **Example Output**: If the Excel file contains three sheets named *Sheet1*, *Sheet2*, and *Sheet3*, `uploaded_sheet_names` will be:\n",
        "  ```python\n",
        "  ['Sheet1', 'Sheet2', 'Sheet3']\n",
        "  ```\n",
        "\n",
        "---\n",
        "\n",
        "#### **&rArr; Loading Data from Each Sheet**\n",
        "```python\n",
        "uploaded_sheet_data = {sheet: uploaded_sheets.parse(sheet).head() for sheet in uploaded_sheet_names}\n",
        "```\n",
        "- **Purpose**: Loops through the sheet names and:\n",
        "  - Uses `uploaded_sheets.parse(sheet)` to read the content of each sheet into a `DataFrame`.\n",
        "  - Uses `.head()` to extract only the first few rows (default: 5 rows) from each sheet.\n",
        "- **Output**: A dictionary where:\n",
        "  - Keys are sheet names (e.g., *Sheet1*, *Sheet2*).\n",
        "  - Values are `DataFrame` objects containing the first few rows of the respective sheets.\n",
        "\n",
        "**Example**:\n",
        "```python\n",
        "{\n",
        "  'Sheet1': DataFrame_of_first_5_rows,\n",
        "  'Sheet2': DataFrame_of_first_5_rows,\n",
        "}\n",
        "```\n",
        "\n",
        "---\n",
        "\n",
        "#### **&rArr; Displaying Results**\n",
        "```python\n",
        "uploaded_sheet_names, uploaded_sheet_data\n",
        "```\n",
        "- **Purpose**: Displays:\n",
        "  - The list of sheet names (`uploaded_sheet_names`).\n",
        "  - The dictionary containing the first few rows of each sheet (`uploaded_sheet_data`).\n",
        "\n",
        "---\n",
        "\n",
        "### **Why This Code Works**\n",
        "1. **Direct File Access**: By using the modified URL (`/export?format=xlsx`), the code avoids the need for manual downloads.\n",
        "2. **Flexibility**: Handles multiple sheets efficiently and loads data into Python `DataFrame`s for further analysis.\n",
        "3. **Efficiency**: Fetches only the first few rows from each sheet to quickly inspect the data structure.\n",
        "\n",
        "---\n",
        "\n",
        "### **Benefits**\n",
        "- Simplifies data extraction from Google Sheets directly into Python.\n",
        "- Uses `pandas`, a robust library for data manipulation.\n",
        "- Supports multiple sheets with minimal code.\n",
        "\n",
        "---\n",
        "\n",
        "### **Further Reading**\n",
        "- [Google Sheets Export Formats](https://developers.google.com/sheets/api/guides/migration#file_downloads)\n",
        "- [pandas.ExcelFile Documentation](https://pandas.pydata.org/docs/reference/api/pandas.ExcelFile.html)"
      ],
      "metadata": {
        "id": "a_UI75cC1dtz"
      }
    },
    {
      "cell_type": "code",
      "source": [
        "\n",
        "# Google Sheets URL (must be shared as \"Anyone with the link can view\")\n",
        "uploaded_file_url = \"https://docs.google.com/spreadsheets/d/1aDCV1CHvL81F4jATYXrtmKz3DejOfHz_/export?format=xlsx\"\n",
        "\n",
        "# Download the file directly into a pandas-compatible format\n",
        "# Use pandas to read the file directly from the link\n",
        "uploaded_sheets = pd.ExcelFile(uploaded_file_url)\n",
        "\n",
        "# Get sheet names\n",
        "uploaded_sheet_names = uploaded_sheets.sheet_names\n",
        "\n",
        "# Load each sheet into a dictionary\n",
        "uploaded_sheet_data = {sheet: uploaded_sheets.parse(sheet).head() for sheet in uploaded_sheet_names}\n",
        "\n",
        "# Display sheet names and the first few rows of each sheet\n",
        "uploaded_sheet_names, uploaded_sheet_data\n"
      ],
      "metadata": {
        "colab": {
          "base_uri": "https://localhost:8080/"
        },
        "id": "0o_q_13eQGc7",
        "outputId": "b80af0c9-805a-499f-e0e8-b9ab2e535763",
        "collapsed": true
      },
      "execution_count": null,
      "outputs": [
        {
          "output_type": "execute_result",
          "data": {
            "text/plain": [
              "(['Key', 'Source Apportionment'],\n",
              " {'Key':           Key to source categories  \\\n",
              "  0                              NaN   \n",
              "  1  Information about the road link   \n",
              "  2             Local Authority Name   \n",
              "  3                        Road Name   \n",
              "  4             Road Management Type   \n",
              "  \n",
              "                                            Unnamed: 1  \n",
              "  0                                                NaN  \n",
              "  1                                                NaN  \n",
              "  2                               Local authority name  \n",
              "  3                                          Road name  \n",
              "  4  Code to identify road management (List provide...  ,\n",
              "  'Source Apportionment':   Local Authority Name Road Management Type     Road Management Description  \\\n",
              "  0                  NaN                  NaN                             NaN   \n",
              "  1               Barnet                   NH     National Highways (England)   \n",
              "  2           Hillingdon                   NH     National Highways (England)   \n",
              "  3        Tower Hamlets                  TfL  Greater London Authority (TfL)   \n",
              "  4            Islington                  TfL  Greater London Authority (TfL)   \n",
              "  \n",
              "    Road Name    Census_id  \\\n",
              "  0       NaN          NaN   \n",
              "  1      'M1'  802006000.0   \n",
              "  2      'M4'  802006013.0   \n",
              "  3     'A12'  802006071.0   \n",
              "  4      'A1'  802006075.0   \n",
              "  \n",
              "    Background and Total concentrations of NOx and NO2 in µgm-3  \\\n",
              "  0                                     Background NOx            \n",
              "  1                                           33.63491            \n",
              "  2                                           36.18661            \n",
              "  3                                           44.09263            \n",
              "  4                                           41.37313            \n",
              "  \n",
              "             Unnamed: 6      Unnamed: 7          Unnamed: 8  \\\n",
              "  0  Total roadside NOx  Background NO2  Total roadside NO2   \n",
              "  1            61.14324       21.887075            29.00128   \n",
              "  2            64.91929       23.178441            30.26615   \n",
              "  3            77.15616       27.378651            34.92458   \n",
              "  4            59.78935       26.014367            28.59341   \n",
              "  \n",
              "    Background source apportionment for NOx in µgm-3 (sum of all components is equal to Background NOx)  \\\n",
              "  0                                       BRURAL20xxEU                                                    \n",
              "  1                                            1.82919                                                    \n",
              "  2                                            2.08066                                                    \n",
              "  3                                             1.8255                                                    \n",
              "  4                                            1.80995                                                    \n",
              "  \n",
              "     ...     Unnamed: 35    Unnamed: 36    Unnamed: 37           Unnamed: 38  \\\n",
              "  0  ...  Buses (Diesel)  LGVs (Petrol)  LGVs (Diesel)  Motorcycles (Petrol)   \n",
              "  1  ...        0.969049        0.01549      12.041399               0.05157   \n",
              "  2  ...        0.946624       0.010439       8.149898               0.02726   \n",
              "  3  ...        0.136824       0.027477      14.911047              0.168729   \n",
              "  4  ...        1.645914       0.011868       6.901844              0.273848   \n",
              "  \n",
              "    Unnamed: 39 Zone Code Local Authority ONS Code Road Class  \\\n",
              "  0       Taxis       NaN                      NaN        NaN   \n",
              "  1    0.884434       1.0                E09000003       'MU'   \n",
              "  2    1.996304       1.0                E09000017       'MU'   \n",
              "  3    5.768405       1.0                E09000030       'PU'   \n",
              "  4    2.779852       1.0                E09000019       'PU'   \n",
              "  \n",
              "    Census ID OS Co-ordinates     Unnamed: 44  \n",
              "  0             Easting X (m)  Northing Y (m)  \n",
              "  1                    522170          189100  \n",
              "  2                    508900          178400  \n",
              "  3                    538180          181800  \n",
              "  4                    530600          185870  \n",
              "  \n",
              "  [5 rows x 45 columns]})"
            ]
          },
          "metadata": {},
          "execution_count": 3
        }
      ]
    },
    {
      "cell_type": "code",
      "source": [
        "# Inspecting the 'Source Apportionment' sheet for potential time series data\n",
        "source_apportionment = uploaded_sheets.parse(\"Source Apportionment\")\n",
        "source_apportionment.info()\n",
        "\n",
        "# Displaying a few rows to identify time series data\n",
        "source_apportionment.head()\n"
      ],
      "metadata": {
        "colab": {
          "base_uri": "https://localhost:8080/",
          "height": 1522
        },
        "id": "XpKaBsdC3yg8",
        "outputId": "7265aa37-db69-43ee-cbdd-c530a37c2d9b"
      },
      "execution_count": null,
      "outputs": [
        {
          "output_type": "stream",
          "name": "stdout",
          "text": [
            "<class 'pandas.core.frame.DataFrame'>\n",
            "RangeIndex: 9670 entries, 0 to 9669\n",
            "Data columns (total 45 columns):\n",
            " #   Column                                                                                                              Non-Null Count  Dtype  \n",
            "---  ------                                                                                                              --------------  -----  \n",
            " 0   Local Authority Name                                                                                                9669 non-null   object \n",
            " 1   Road Management Type                                                                                                9669 non-null   object \n",
            " 2   Road Management Description                                                                                         9669 non-null   object \n",
            " 3   Road Name                                                                                                           9669 non-null   object \n",
            " 4   Census_id                                                                                                           9669 non-null   float64\n",
            " 5   Background and Total concentrations of NOx and NO2 in µgm-3                                                         9670 non-null   object \n",
            " 6   Unnamed: 6                                                                                                          9670 non-null   object \n",
            " 7   Unnamed: 7                                                                                                          9670 non-null   object \n",
            " 8   Unnamed: 8                                                                                                          9670 non-null   object \n",
            " 9   Background source apportionment for NOx in µgm-3 (sum of all components is equal to Background NOx)                 9670 non-null   object \n",
            " 10  Unnamed: 10                                                                                                         9670 non-null   object \n",
            " 11  Unnamed: 11                                                                                                         9670 non-null   object \n",
            " 12  Unnamed: 12                                                                                                         9670 non-null   object \n",
            " 13  Unnamed: 13                                                                                                         9670 non-null   object \n",
            " 14  Unnamed: 14                                                                                                         9670 non-null   object \n",
            " 15  Unnamed: 15                                                                                                         9670 non-null   object \n",
            " 16  Unnamed: 16                                                                                                         9670 non-null   object \n",
            " 17  Unnamed: 17                                                                                                         9670 non-null   object \n",
            " 18  Unnamed: 18                                                                                                         9670 non-null   object \n",
            " 19  Unnamed: 19                                                                                                         9670 non-null   object \n",
            " 20  Unnamed: 20                                                                                                         9670 non-null   object \n",
            " 21  Unnamed: 21                                                                                                         9670 non-null   object \n",
            " 22  Unnamed: 22                                                                                                         9670 non-null   object \n",
            " 23  Unnamed: 23                                                                                                         9670 non-null   object \n",
            " 24  Unnamed: 24                                                                                                         9670 non-null   object \n",
            " 25  Unnamed: 25                                                                                                         9670 non-null   object \n",
            " 26  Unnamed: 26                                                                                                         9670 non-null   object \n",
            " 27  Unnamed: 27                                                                                                         9670 non-null   object \n",
            " 28  Unnamed: 28                                                                                                         9670 non-null   object \n",
            " 29  Unnamed: 29                                                                                                         9670 non-null   object \n",
            " 30  Unnamed: 30                                                                                                         9670 non-null   object \n",
            " 31  Road Traffic source apportionment for NOx in µgm-3 (sum of all components + Background NOx is equal to Total NOx)   9670 non-null   object \n",
            " 32  Unnamed: 32                                                                                                         9670 non-null   object \n",
            " 33  Unnamed: 33                                                                                                         9670 non-null   object \n",
            " 34  Unnamed: 34                                                                                                         9670 non-null   object \n",
            " 35  Unnamed: 35                                                                                                         9670 non-null   object \n",
            " 36  Unnamed: 36                                                                                                         9670 non-null   object \n",
            " 37  Unnamed: 37                                                                                                         9670 non-null   object \n",
            " 38  Unnamed: 38                                                                                                         9670 non-null   object \n",
            " 39  Unnamed: 39                                                                                                         9670 non-null   object \n",
            " 40  Zone Code                                                                                                           9669 non-null   float64\n",
            " 41  Local Authority ONS Code                                                                                            9669 non-null   object \n",
            " 42  Road Class                                                                                                          9669 non-null   object \n",
            " 43  Census ID OS Co-ordinates                                                                                           9670 non-null   object \n",
            " 44  Unnamed: 44                                                                                                         9670 non-null   object \n",
            "dtypes: float64(2), object(43)\n",
            "memory usage: 3.3+ MB\n"
          ]
        },
        {
          "output_type": "execute_result",
          "data": {
            "text/plain": [
              "  Local Authority Name Road Management Type     Road Management Description  \\\n",
              "0                  NaN                  NaN                             NaN   \n",
              "1               Barnet                   NH     National Highways (England)   \n",
              "2           Hillingdon                   NH     National Highways (England)   \n",
              "3        Tower Hamlets                  TfL  Greater London Authority (TfL)   \n",
              "4            Islington                  TfL  Greater London Authority (TfL)   \n",
              "\n",
              "  Road Name    Census_id  \\\n",
              "0       NaN          NaN   \n",
              "1      'M1'  802006000.0   \n",
              "2      'M4'  802006013.0   \n",
              "3     'A12'  802006071.0   \n",
              "4      'A1'  802006075.0   \n",
              "\n",
              "  Background and Total concentrations of NOx and NO2 in µgm-3  \\\n",
              "0                                     Background NOx            \n",
              "1                                           33.63491            \n",
              "2                                           36.18661            \n",
              "3                                           44.09263            \n",
              "4                                           41.37313            \n",
              "\n",
              "           Unnamed: 6      Unnamed: 7          Unnamed: 8  \\\n",
              "0  Total roadside NOx  Background NO2  Total roadside NO2   \n",
              "1            61.14324       21.887075            29.00128   \n",
              "2            64.91929       23.178441            30.26615   \n",
              "3            77.15616       27.378651            34.92458   \n",
              "4            59.78935       26.014367            28.59341   \n",
              "\n",
              "  Background source apportionment for NOx in µgm-3 (sum of all components is equal to Background NOx)  \\\n",
              "0                                       BRURAL20xxEU                                                    \n",
              "1                                            1.82919                                                    \n",
              "2                                            2.08066                                                    \n",
              "3                                             1.8255                                                    \n",
              "4                                            1.80995                                                    \n",
              "\n",
              "   ...     Unnamed: 35    Unnamed: 36    Unnamed: 37           Unnamed: 38  \\\n",
              "0  ...  Buses (Diesel)  LGVs (Petrol)  LGVs (Diesel)  Motorcycles (Petrol)   \n",
              "1  ...        0.969049        0.01549      12.041399               0.05157   \n",
              "2  ...        0.946624       0.010439       8.149898               0.02726   \n",
              "3  ...        0.136824       0.027477      14.911047              0.168729   \n",
              "4  ...        1.645914       0.011868       6.901844              0.273848   \n",
              "\n",
              "  Unnamed: 39 Zone Code Local Authority ONS Code Road Class  \\\n",
              "0       Taxis       NaN                      NaN        NaN   \n",
              "1    0.884434       1.0                E09000003       'MU'   \n",
              "2    1.996304       1.0                E09000017       'MU'   \n",
              "3    5.768405       1.0                E09000030       'PU'   \n",
              "4    2.779852       1.0                E09000019       'PU'   \n",
              "\n",
              "  Census ID OS Co-ordinates     Unnamed: 44  \n",
              "0             Easting X (m)  Northing Y (m)  \n",
              "1                    522170          189100  \n",
              "2                    508900          178400  \n",
              "3                    538180          181800  \n",
              "4                    530600          185870  \n",
              "\n",
              "[5 rows x 45 columns]"
            ],
            "text/html": [
              "\n",
              "  <div id=\"df-a33f6539-6a05-4627-99cd-ae107d8edf41\" class=\"colab-df-container\">\n",
              "    <div>\n",
              "<style scoped>\n",
              "    .dataframe tbody tr th:only-of-type {\n",
              "        vertical-align: middle;\n",
              "    }\n",
              "\n",
              "    .dataframe tbody tr th {\n",
              "        vertical-align: top;\n",
              "    }\n",
              "\n",
              "    .dataframe thead th {\n",
              "        text-align: right;\n",
              "    }\n",
              "</style>\n",
              "<table border=\"1\" class=\"dataframe\">\n",
              "  <thead>\n",
              "    <tr style=\"text-align: right;\">\n",
              "      <th></th>\n",
              "      <th>Local Authority Name</th>\n",
              "      <th>Road Management Type</th>\n",
              "      <th>Road Management Description</th>\n",
              "      <th>Road Name</th>\n",
              "      <th>Census_id</th>\n",
              "      <th>Background and Total concentrations of NOx and NO2 in µgm-3</th>\n",
              "      <th>Unnamed: 6</th>\n",
              "      <th>Unnamed: 7</th>\n",
              "      <th>Unnamed: 8</th>\n",
              "      <th>Background source apportionment for NOx in µgm-3 (sum of all components is equal to Background NOx)</th>\n",
              "      <th>...</th>\n",
              "      <th>Unnamed: 35</th>\n",
              "      <th>Unnamed: 36</th>\n",
              "      <th>Unnamed: 37</th>\n",
              "      <th>Unnamed: 38</th>\n",
              "      <th>Unnamed: 39</th>\n",
              "      <th>Zone Code</th>\n",
              "      <th>Local Authority ONS Code</th>\n",
              "      <th>Road Class</th>\n",
              "      <th>Census ID OS Co-ordinates</th>\n",
              "      <th>Unnamed: 44</th>\n",
              "    </tr>\n",
              "  </thead>\n",
              "  <tbody>\n",
              "    <tr>\n",
              "      <th>0</th>\n",
              "      <td>NaN</td>\n",
              "      <td>NaN</td>\n",
              "      <td>NaN</td>\n",
              "      <td>NaN</td>\n",
              "      <td>NaN</td>\n",
              "      <td>Background NOx</td>\n",
              "      <td>Total roadside NOx</td>\n",
              "      <td>Background NO2</td>\n",
              "      <td>Total roadside NO2</td>\n",
              "      <td>BRURAL20xxEU</td>\n",
              "      <td>...</td>\n",
              "      <td>Buses (Diesel)</td>\n",
              "      <td>LGVs (Petrol)</td>\n",
              "      <td>LGVs (Diesel)</td>\n",
              "      <td>Motorcycles (Petrol)</td>\n",
              "      <td>Taxis</td>\n",
              "      <td>NaN</td>\n",
              "      <td>NaN</td>\n",
              "      <td>NaN</td>\n",
              "      <td>Easting X (m)</td>\n",
              "      <td>Northing Y (m)</td>\n",
              "    </tr>\n",
              "    <tr>\n",
              "      <th>1</th>\n",
              "      <td>Barnet</td>\n",
              "      <td>NH</td>\n",
              "      <td>National Highways (England)</td>\n",
              "      <td>'M1'</td>\n",
              "      <td>802006000.0</td>\n",
              "      <td>33.63491</td>\n",
              "      <td>61.14324</td>\n",
              "      <td>21.887075</td>\n",
              "      <td>29.00128</td>\n",
              "      <td>1.82919</td>\n",
              "      <td>...</td>\n",
              "      <td>0.969049</td>\n",
              "      <td>0.01549</td>\n",
              "      <td>12.041399</td>\n",
              "      <td>0.05157</td>\n",
              "      <td>0.884434</td>\n",
              "      <td>1.0</td>\n",
              "      <td>E09000003</td>\n",
              "      <td>'MU'</td>\n",
              "      <td>522170</td>\n",
              "      <td>189100</td>\n",
              "    </tr>\n",
              "    <tr>\n",
              "      <th>2</th>\n",
              "      <td>Hillingdon</td>\n",
              "      <td>NH</td>\n",
              "      <td>National Highways (England)</td>\n",
              "      <td>'M4'</td>\n",
              "      <td>802006013.0</td>\n",
              "      <td>36.18661</td>\n",
              "      <td>64.91929</td>\n",
              "      <td>23.178441</td>\n",
              "      <td>30.26615</td>\n",
              "      <td>2.08066</td>\n",
              "      <td>...</td>\n",
              "      <td>0.946624</td>\n",
              "      <td>0.010439</td>\n",
              "      <td>8.149898</td>\n",
              "      <td>0.02726</td>\n",
              "      <td>1.996304</td>\n",
              "      <td>1.0</td>\n",
              "      <td>E09000017</td>\n",
              "      <td>'MU'</td>\n",
              "      <td>508900</td>\n",
              "      <td>178400</td>\n",
              "    </tr>\n",
              "    <tr>\n",
              "      <th>3</th>\n",
              "      <td>Tower Hamlets</td>\n",
              "      <td>TfL</td>\n",
              "      <td>Greater London Authority (TfL)</td>\n",
              "      <td>'A12'</td>\n",
              "      <td>802006071.0</td>\n",
              "      <td>44.09263</td>\n",
              "      <td>77.15616</td>\n",
              "      <td>27.378651</td>\n",
              "      <td>34.92458</td>\n",
              "      <td>1.8255</td>\n",
              "      <td>...</td>\n",
              "      <td>0.136824</td>\n",
              "      <td>0.027477</td>\n",
              "      <td>14.911047</td>\n",
              "      <td>0.168729</td>\n",
              "      <td>5.768405</td>\n",
              "      <td>1.0</td>\n",
              "      <td>E09000030</td>\n",
              "      <td>'PU'</td>\n",
              "      <td>538180</td>\n",
              "      <td>181800</td>\n",
              "    </tr>\n",
              "    <tr>\n",
              "      <th>4</th>\n",
              "      <td>Islington</td>\n",
              "      <td>TfL</td>\n",
              "      <td>Greater London Authority (TfL)</td>\n",
              "      <td>'A1'</td>\n",
              "      <td>802006075.0</td>\n",
              "      <td>41.37313</td>\n",
              "      <td>59.78935</td>\n",
              "      <td>26.014367</td>\n",
              "      <td>28.59341</td>\n",
              "      <td>1.80995</td>\n",
              "      <td>...</td>\n",
              "      <td>1.645914</td>\n",
              "      <td>0.011868</td>\n",
              "      <td>6.901844</td>\n",
              "      <td>0.273848</td>\n",
              "      <td>2.779852</td>\n",
              "      <td>1.0</td>\n",
              "      <td>E09000019</td>\n",
              "      <td>'PU'</td>\n",
              "      <td>530600</td>\n",
              "      <td>185870</td>\n",
              "    </tr>\n",
              "  </tbody>\n",
              "</table>\n",
              "<p>5 rows × 45 columns</p>\n",
              "</div>\n",
              "    <div class=\"colab-df-buttons\">\n",
              "\n",
              "  <div class=\"colab-df-container\">\n",
              "    <button class=\"colab-df-convert\" onclick=\"convertToInteractive('df-a33f6539-6a05-4627-99cd-ae107d8edf41')\"\n",
              "            title=\"Convert this dataframe to an interactive table.\"\n",
              "            style=\"display:none;\">\n",
              "\n",
              "  <svg xmlns=\"http://www.w3.org/2000/svg\" height=\"24px\" viewBox=\"0 -960 960 960\">\n",
              "    <path d=\"M120-120v-720h720v720H120Zm60-500h600v-160H180v160Zm220 220h160v-160H400v160Zm0 220h160v-160H400v160ZM180-400h160v-160H180v160Zm440 0h160v-160H620v160ZM180-180h160v-160H180v160Zm440 0h160v-160H620v160Z\"/>\n",
              "  </svg>\n",
              "    </button>\n",
              "\n",
              "  <style>\n",
              "    .colab-df-container {\n",
              "      display:flex;\n",
              "      gap: 12px;\n",
              "    }\n",
              "\n",
              "    .colab-df-convert {\n",
              "      background-color: #E8F0FE;\n",
              "      border: none;\n",
              "      border-radius: 50%;\n",
              "      cursor: pointer;\n",
              "      display: none;\n",
              "      fill: #1967D2;\n",
              "      height: 32px;\n",
              "      padding: 0 0 0 0;\n",
              "      width: 32px;\n",
              "    }\n",
              "\n",
              "    .colab-df-convert:hover {\n",
              "      background-color: #E2EBFA;\n",
              "      box-shadow: 0px 1px 2px rgba(60, 64, 67, 0.3), 0px 1px 3px 1px rgba(60, 64, 67, 0.15);\n",
              "      fill: #174EA6;\n",
              "    }\n",
              "\n",
              "    .colab-df-buttons div {\n",
              "      margin-bottom: 4px;\n",
              "    }\n",
              "\n",
              "    [theme=dark] .colab-df-convert {\n",
              "      background-color: #3B4455;\n",
              "      fill: #D2E3FC;\n",
              "    }\n",
              "\n",
              "    [theme=dark] .colab-df-convert:hover {\n",
              "      background-color: #434B5C;\n",
              "      box-shadow: 0px 1px 3px 1px rgba(0, 0, 0, 0.15);\n",
              "      filter: drop-shadow(0px 1px 2px rgba(0, 0, 0, 0.3));\n",
              "      fill: #FFFFFF;\n",
              "    }\n",
              "  </style>\n",
              "\n",
              "    <script>\n",
              "      const buttonEl =\n",
              "        document.querySelector('#df-a33f6539-6a05-4627-99cd-ae107d8edf41 button.colab-df-convert');\n",
              "      buttonEl.style.display =\n",
              "        google.colab.kernel.accessAllowed ? 'block' : 'none';\n",
              "\n",
              "      async function convertToInteractive(key) {\n",
              "        const element = document.querySelector('#df-a33f6539-6a05-4627-99cd-ae107d8edf41');\n",
              "        const dataTable =\n",
              "          await google.colab.kernel.invokeFunction('convertToInteractive',\n",
              "                                                    [key], {});\n",
              "        if (!dataTable) return;\n",
              "\n",
              "        const docLinkHtml = 'Like what you see? Visit the ' +\n",
              "          '<a target=\"_blank\" href=https://colab.research.google.com/notebooks/data_table.ipynb>data table notebook</a>'\n",
              "          + ' to learn more about interactive tables.';\n",
              "        element.innerHTML = '';\n",
              "        dataTable['output_type'] = 'display_data';\n",
              "        await google.colab.output.renderOutput(dataTable, element);\n",
              "        const docLink = document.createElement('div');\n",
              "        docLink.innerHTML = docLinkHtml;\n",
              "        element.appendChild(docLink);\n",
              "      }\n",
              "    </script>\n",
              "  </div>\n",
              "\n",
              "\n",
              "<div id=\"df-904bb5db-be70-4a09-842f-adf8a2bc8a28\">\n",
              "  <button class=\"colab-df-quickchart\" onclick=\"quickchart('df-904bb5db-be70-4a09-842f-adf8a2bc8a28')\"\n",
              "            title=\"Suggest charts\"\n",
              "            style=\"display:none;\">\n",
              "\n",
              "<svg xmlns=\"http://www.w3.org/2000/svg\" height=\"24px\"viewBox=\"0 0 24 24\"\n",
              "     width=\"24px\">\n",
              "    <g>\n",
              "        <path d=\"M19 3H5c-1.1 0-2 .9-2 2v14c0 1.1.9 2 2 2h14c1.1 0 2-.9 2-2V5c0-1.1-.9-2-2-2zM9 17H7v-7h2v7zm4 0h-2V7h2v10zm4 0h-2v-4h2v4z\"/>\n",
              "    </g>\n",
              "</svg>\n",
              "  </button>\n",
              "\n",
              "<style>\n",
              "  .colab-df-quickchart {\n",
              "      --bg-color: #E8F0FE;\n",
              "      --fill-color: #1967D2;\n",
              "      --hover-bg-color: #E2EBFA;\n",
              "      --hover-fill-color: #174EA6;\n",
              "      --disabled-fill-color: #AAA;\n",
              "      --disabled-bg-color: #DDD;\n",
              "  }\n",
              "\n",
              "  [theme=dark] .colab-df-quickchart {\n",
              "      --bg-color: #3B4455;\n",
              "      --fill-color: #D2E3FC;\n",
              "      --hover-bg-color: #434B5C;\n",
              "      --hover-fill-color: #FFFFFF;\n",
              "      --disabled-bg-color: #3B4455;\n",
              "      --disabled-fill-color: #666;\n",
              "  }\n",
              "\n",
              "  .colab-df-quickchart {\n",
              "    background-color: var(--bg-color);\n",
              "    border: none;\n",
              "    border-radius: 50%;\n",
              "    cursor: pointer;\n",
              "    display: none;\n",
              "    fill: var(--fill-color);\n",
              "    height: 32px;\n",
              "    padding: 0;\n",
              "    width: 32px;\n",
              "  }\n",
              "\n",
              "  .colab-df-quickchart:hover {\n",
              "    background-color: var(--hover-bg-color);\n",
              "    box-shadow: 0 1px 2px rgba(60, 64, 67, 0.3), 0 1px 3px 1px rgba(60, 64, 67, 0.15);\n",
              "    fill: var(--button-hover-fill-color);\n",
              "  }\n",
              "\n",
              "  .colab-df-quickchart-complete:disabled,\n",
              "  .colab-df-quickchart-complete:disabled:hover {\n",
              "    background-color: var(--disabled-bg-color);\n",
              "    fill: var(--disabled-fill-color);\n",
              "    box-shadow: none;\n",
              "  }\n",
              "\n",
              "  .colab-df-spinner {\n",
              "    border: 2px solid var(--fill-color);\n",
              "    border-color: transparent;\n",
              "    border-bottom-color: var(--fill-color);\n",
              "    animation:\n",
              "      spin 1s steps(1) infinite;\n",
              "  }\n",
              "\n",
              "  @keyframes spin {\n",
              "    0% {\n",
              "      border-color: transparent;\n",
              "      border-bottom-color: var(--fill-color);\n",
              "      border-left-color: var(--fill-color);\n",
              "    }\n",
              "    20% {\n",
              "      border-color: transparent;\n",
              "      border-left-color: var(--fill-color);\n",
              "      border-top-color: var(--fill-color);\n",
              "    }\n",
              "    30% {\n",
              "      border-color: transparent;\n",
              "      border-left-color: var(--fill-color);\n",
              "      border-top-color: var(--fill-color);\n",
              "      border-right-color: var(--fill-color);\n",
              "    }\n",
              "    40% {\n",
              "      border-color: transparent;\n",
              "      border-right-color: var(--fill-color);\n",
              "      border-top-color: var(--fill-color);\n",
              "    }\n",
              "    60% {\n",
              "      border-color: transparent;\n",
              "      border-right-color: var(--fill-color);\n",
              "    }\n",
              "    80% {\n",
              "      border-color: transparent;\n",
              "      border-right-color: var(--fill-color);\n",
              "      border-bottom-color: var(--fill-color);\n",
              "    }\n",
              "    90% {\n",
              "      border-color: transparent;\n",
              "      border-bottom-color: var(--fill-color);\n",
              "    }\n",
              "  }\n",
              "</style>\n",
              "\n",
              "  <script>\n",
              "    async function quickchart(key) {\n",
              "      const quickchartButtonEl =\n",
              "        document.querySelector('#' + key + ' button');\n",
              "      quickchartButtonEl.disabled = true;  // To prevent multiple clicks.\n",
              "      quickchartButtonEl.classList.add('colab-df-spinner');\n",
              "      try {\n",
              "        const charts = await google.colab.kernel.invokeFunction(\n",
              "            'suggestCharts', [key], {});\n",
              "      } catch (error) {\n",
              "        console.error('Error during call to suggestCharts:', error);\n",
              "      }\n",
              "      quickchartButtonEl.classList.remove('colab-df-spinner');\n",
              "      quickchartButtonEl.classList.add('colab-df-quickchart-complete');\n",
              "    }\n",
              "    (() => {\n",
              "      let quickchartButtonEl =\n",
              "        document.querySelector('#df-904bb5db-be70-4a09-842f-adf8a2bc8a28 button');\n",
              "      quickchartButtonEl.style.display =\n",
              "        google.colab.kernel.accessAllowed ? 'block' : 'none';\n",
              "    })();\n",
              "  </script>\n",
              "</div>\n",
              "\n",
              "    </div>\n",
              "  </div>\n"
            ],
            "application/vnd.google.colaboratory.intrinsic+json": {
              "type": "dataframe",
              "variable_name": "source_apportionment"
            }
          },
          "metadata": {},
          "execution_count": 4
        }
      ]
    },
    {
      "cell_type": "markdown",
      "source": [
        "The uploaded Excel file contains two sheets: Key and Source Apportionment.\n",
        "\n",
        "Sheet Breakdown:\n",
        "Key: Contains metadata and descriptions for the columns in the dataset.\n",
        "Source Apportionment: Contains data related to road names, local authorities, and air quality measurements (e.g., background and roadside concentrations of NOx and NO2).\n",
        "\n",
        "Next Steps:\\\n",
        "To fulfill the task:\n",
        "\n",
        "I'll locate a suitable column in the Source Apportionment sheet representing time series data for air quality (e.g., daily NOx or NO2 measurements).\n",
        "\n",
        "If the dataset includes date columns, I'll ensure proper time series indexing.\n",
        "I'll prepare and analyze this data, generate line plots, and apply a time series analysis method."
      ],
      "metadata": {
        "id": "ngQrX6U24qfF"
      }
    },
    {
      "cell_type": "code",
      "source": [
        "# Inspecting the 'Source Apportionment' sheet for potential time series data\n",
        "source_apportionment = uploaded_sheets.parse(\"Source Apportionment\")\n",
        "source_apportionment.info()\n",
        "\n",
        "# Displaying a few rows to identify time series data\n",
        "source_apportionment.head()\n"
      ],
      "metadata": {
        "colab": {
          "base_uri": "https://localhost:8080/",
          "height": 1522
        },
        "id": "AgH7TXT837T2",
        "outputId": "ae0ffd1d-18c7-442b-ce38-78dbce94ec4f"
      },
      "execution_count": null,
      "outputs": [
        {
          "output_type": "stream",
          "name": "stdout",
          "text": [
            "<class 'pandas.core.frame.DataFrame'>\n",
            "RangeIndex: 9670 entries, 0 to 9669\n",
            "Data columns (total 45 columns):\n",
            " #   Column                                                                                                              Non-Null Count  Dtype  \n",
            "---  ------                                                                                                              --------------  -----  \n",
            " 0   Local Authority Name                                                                                                9669 non-null   object \n",
            " 1   Road Management Type                                                                                                9669 non-null   object \n",
            " 2   Road Management Description                                                                                         9669 non-null   object \n",
            " 3   Road Name                                                                                                           9669 non-null   object \n",
            " 4   Census_id                                                                                                           9669 non-null   float64\n",
            " 5   Background and Total concentrations of NOx and NO2 in µgm-3                                                         9670 non-null   object \n",
            " 6   Unnamed: 6                                                                                                          9670 non-null   object \n",
            " 7   Unnamed: 7                                                                                                          9670 non-null   object \n",
            " 8   Unnamed: 8                                                                                                          9670 non-null   object \n",
            " 9   Background source apportionment for NOx in µgm-3 (sum of all components is equal to Background NOx)                 9670 non-null   object \n",
            " 10  Unnamed: 10                                                                                                         9670 non-null   object \n",
            " 11  Unnamed: 11                                                                                                         9670 non-null   object \n",
            " 12  Unnamed: 12                                                                                                         9670 non-null   object \n",
            " 13  Unnamed: 13                                                                                                         9670 non-null   object \n",
            " 14  Unnamed: 14                                                                                                         9670 non-null   object \n",
            " 15  Unnamed: 15                                                                                                         9670 non-null   object \n",
            " 16  Unnamed: 16                                                                                                         9670 non-null   object \n",
            " 17  Unnamed: 17                                                                                                         9670 non-null   object \n",
            " 18  Unnamed: 18                                                                                                         9670 non-null   object \n",
            " 19  Unnamed: 19                                                                                                         9670 non-null   object \n",
            " 20  Unnamed: 20                                                                                                         9670 non-null   object \n",
            " 21  Unnamed: 21                                                                                                         9670 non-null   object \n",
            " 22  Unnamed: 22                                                                                                         9670 non-null   object \n",
            " 23  Unnamed: 23                                                                                                         9670 non-null   object \n",
            " 24  Unnamed: 24                                                                                                         9670 non-null   object \n",
            " 25  Unnamed: 25                                                                                                         9670 non-null   object \n",
            " 26  Unnamed: 26                                                                                                         9670 non-null   object \n",
            " 27  Unnamed: 27                                                                                                         9670 non-null   object \n",
            " 28  Unnamed: 28                                                                                                         9670 non-null   object \n",
            " 29  Unnamed: 29                                                                                                         9670 non-null   object \n",
            " 30  Unnamed: 30                                                                                                         9670 non-null   object \n",
            " 31  Road Traffic source apportionment for NOx in µgm-3 (sum of all components + Background NOx is equal to Total NOx)   9670 non-null   object \n",
            " 32  Unnamed: 32                                                                                                         9670 non-null   object \n",
            " 33  Unnamed: 33                                                                                                         9670 non-null   object \n",
            " 34  Unnamed: 34                                                                                                         9670 non-null   object \n",
            " 35  Unnamed: 35                                                                                                         9670 non-null   object \n",
            " 36  Unnamed: 36                                                                                                         9670 non-null   object \n",
            " 37  Unnamed: 37                                                                                                         9670 non-null   object \n",
            " 38  Unnamed: 38                                                                                                         9670 non-null   object \n",
            " 39  Unnamed: 39                                                                                                         9670 non-null   object \n",
            " 40  Zone Code                                                                                                           9669 non-null   float64\n",
            " 41  Local Authority ONS Code                                                                                            9669 non-null   object \n",
            " 42  Road Class                                                                                                          9669 non-null   object \n",
            " 43  Census ID OS Co-ordinates                                                                                           9670 non-null   object \n",
            " 44  Unnamed: 44                                                                                                         9670 non-null   object \n",
            "dtypes: float64(2), object(43)\n",
            "memory usage: 3.3+ MB\n"
          ]
        },
        {
          "output_type": "execute_result",
          "data": {
            "text/plain": [
              "  Local Authority Name Road Management Type     Road Management Description  \\\n",
              "0                  NaN                  NaN                             NaN   \n",
              "1               Barnet                   NH     National Highways (England)   \n",
              "2           Hillingdon                   NH     National Highways (England)   \n",
              "3        Tower Hamlets                  TfL  Greater London Authority (TfL)   \n",
              "4            Islington                  TfL  Greater London Authority (TfL)   \n",
              "\n",
              "  Road Name    Census_id  \\\n",
              "0       NaN          NaN   \n",
              "1      'M1'  802006000.0   \n",
              "2      'M4'  802006013.0   \n",
              "3     'A12'  802006071.0   \n",
              "4      'A1'  802006075.0   \n",
              "\n",
              "  Background and Total concentrations of NOx and NO2 in µgm-3  \\\n",
              "0                                     Background NOx            \n",
              "1                                           33.63491            \n",
              "2                                           36.18661            \n",
              "3                                           44.09263            \n",
              "4                                           41.37313            \n",
              "\n",
              "           Unnamed: 6      Unnamed: 7          Unnamed: 8  \\\n",
              "0  Total roadside NOx  Background NO2  Total roadside NO2   \n",
              "1            61.14324       21.887075            29.00128   \n",
              "2            64.91929       23.178441            30.26615   \n",
              "3            77.15616       27.378651            34.92458   \n",
              "4            59.78935       26.014367            28.59341   \n",
              "\n",
              "  Background source apportionment for NOx in µgm-3 (sum of all components is equal to Background NOx)  \\\n",
              "0                                       BRURAL20xxEU                                                    \n",
              "1                                            1.82919                                                    \n",
              "2                                            2.08066                                                    \n",
              "3                                             1.8255                                                    \n",
              "4                                            1.80995                                                    \n",
              "\n",
              "   ...     Unnamed: 35    Unnamed: 36    Unnamed: 37           Unnamed: 38  \\\n",
              "0  ...  Buses (Diesel)  LGVs (Petrol)  LGVs (Diesel)  Motorcycles (Petrol)   \n",
              "1  ...        0.969049        0.01549      12.041399               0.05157   \n",
              "2  ...        0.946624       0.010439       8.149898               0.02726   \n",
              "3  ...        0.136824       0.027477      14.911047              0.168729   \n",
              "4  ...        1.645914       0.011868       6.901844              0.273848   \n",
              "\n",
              "  Unnamed: 39 Zone Code Local Authority ONS Code Road Class  \\\n",
              "0       Taxis       NaN                      NaN        NaN   \n",
              "1    0.884434       1.0                E09000003       'MU'   \n",
              "2    1.996304       1.0                E09000017       'MU'   \n",
              "3    5.768405       1.0                E09000030       'PU'   \n",
              "4    2.779852       1.0                E09000019       'PU'   \n",
              "\n",
              "  Census ID OS Co-ordinates     Unnamed: 44  \n",
              "0             Easting X (m)  Northing Y (m)  \n",
              "1                    522170          189100  \n",
              "2                    508900          178400  \n",
              "3                    538180          181800  \n",
              "4                    530600          185870  \n",
              "\n",
              "[5 rows x 45 columns]"
            ],
            "text/html": [
              "\n",
              "  <div id=\"df-922393f5-4b2a-47ce-8282-e45005ddbca2\" class=\"colab-df-container\">\n",
              "    <div>\n",
              "<style scoped>\n",
              "    .dataframe tbody tr th:only-of-type {\n",
              "        vertical-align: middle;\n",
              "    }\n",
              "\n",
              "    .dataframe tbody tr th {\n",
              "        vertical-align: top;\n",
              "    }\n",
              "\n",
              "    .dataframe thead th {\n",
              "        text-align: right;\n",
              "    }\n",
              "</style>\n",
              "<table border=\"1\" class=\"dataframe\">\n",
              "  <thead>\n",
              "    <tr style=\"text-align: right;\">\n",
              "      <th></th>\n",
              "      <th>Local Authority Name</th>\n",
              "      <th>Road Management Type</th>\n",
              "      <th>Road Management Description</th>\n",
              "      <th>Road Name</th>\n",
              "      <th>Census_id</th>\n",
              "      <th>Background and Total concentrations of NOx and NO2 in µgm-3</th>\n",
              "      <th>Unnamed: 6</th>\n",
              "      <th>Unnamed: 7</th>\n",
              "      <th>Unnamed: 8</th>\n",
              "      <th>Background source apportionment for NOx in µgm-3 (sum of all components is equal to Background NOx)</th>\n",
              "      <th>...</th>\n",
              "      <th>Unnamed: 35</th>\n",
              "      <th>Unnamed: 36</th>\n",
              "      <th>Unnamed: 37</th>\n",
              "      <th>Unnamed: 38</th>\n",
              "      <th>Unnamed: 39</th>\n",
              "      <th>Zone Code</th>\n",
              "      <th>Local Authority ONS Code</th>\n",
              "      <th>Road Class</th>\n",
              "      <th>Census ID OS Co-ordinates</th>\n",
              "      <th>Unnamed: 44</th>\n",
              "    </tr>\n",
              "  </thead>\n",
              "  <tbody>\n",
              "    <tr>\n",
              "      <th>0</th>\n",
              "      <td>NaN</td>\n",
              "      <td>NaN</td>\n",
              "      <td>NaN</td>\n",
              "      <td>NaN</td>\n",
              "      <td>NaN</td>\n",
              "      <td>Background NOx</td>\n",
              "      <td>Total roadside NOx</td>\n",
              "      <td>Background NO2</td>\n",
              "      <td>Total roadside NO2</td>\n",
              "      <td>BRURAL20xxEU</td>\n",
              "      <td>...</td>\n",
              "      <td>Buses (Diesel)</td>\n",
              "      <td>LGVs (Petrol)</td>\n",
              "      <td>LGVs (Diesel)</td>\n",
              "      <td>Motorcycles (Petrol)</td>\n",
              "      <td>Taxis</td>\n",
              "      <td>NaN</td>\n",
              "      <td>NaN</td>\n",
              "      <td>NaN</td>\n",
              "      <td>Easting X (m)</td>\n",
              "      <td>Northing Y (m)</td>\n",
              "    </tr>\n",
              "    <tr>\n",
              "      <th>1</th>\n",
              "      <td>Barnet</td>\n",
              "      <td>NH</td>\n",
              "      <td>National Highways (England)</td>\n",
              "      <td>'M1'</td>\n",
              "      <td>802006000.0</td>\n",
              "      <td>33.63491</td>\n",
              "      <td>61.14324</td>\n",
              "      <td>21.887075</td>\n",
              "      <td>29.00128</td>\n",
              "      <td>1.82919</td>\n",
              "      <td>...</td>\n",
              "      <td>0.969049</td>\n",
              "      <td>0.01549</td>\n",
              "      <td>12.041399</td>\n",
              "      <td>0.05157</td>\n",
              "      <td>0.884434</td>\n",
              "      <td>1.0</td>\n",
              "      <td>E09000003</td>\n",
              "      <td>'MU'</td>\n",
              "      <td>522170</td>\n",
              "      <td>189100</td>\n",
              "    </tr>\n",
              "    <tr>\n",
              "      <th>2</th>\n",
              "      <td>Hillingdon</td>\n",
              "      <td>NH</td>\n",
              "      <td>National Highways (England)</td>\n",
              "      <td>'M4'</td>\n",
              "      <td>802006013.0</td>\n",
              "      <td>36.18661</td>\n",
              "      <td>64.91929</td>\n",
              "      <td>23.178441</td>\n",
              "      <td>30.26615</td>\n",
              "      <td>2.08066</td>\n",
              "      <td>...</td>\n",
              "      <td>0.946624</td>\n",
              "      <td>0.010439</td>\n",
              "      <td>8.149898</td>\n",
              "      <td>0.02726</td>\n",
              "      <td>1.996304</td>\n",
              "      <td>1.0</td>\n",
              "      <td>E09000017</td>\n",
              "      <td>'MU'</td>\n",
              "      <td>508900</td>\n",
              "      <td>178400</td>\n",
              "    </tr>\n",
              "    <tr>\n",
              "      <th>3</th>\n",
              "      <td>Tower Hamlets</td>\n",
              "      <td>TfL</td>\n",
              "      <td>Greater London Authority (TfL)</td>\n",
              "      <td>'A12'</td>\n",
              "      <td>802006071.0</td>\n",
              "      <td>44.09263</td>\n",
              "      <td>77.15616</td>\n",
              "      <td>27.378651</td>\n",
              "      <td>34.92458</td>\n",
              "      <td>1.8255</td>\n",
              "      <td>...</td>\n",
              "      <td>0.136824</td>\n",
              "      <td>0.027477</td>\n",
              "      <td>14.911047</td>\n",
              "      <td>0.168729</td>\n",
              "      <td>5.768405</td>\n",
              "      <td>1.0</td>\n",
              "      <td>E09000030</td>\n",
              "      <td>'PU'</td>\n",
              "      <td>538180</td>\n",
              "      <td>181800</td>\n",
              "    </tr>\n",
              "    <tr>\n",
              "      <th>4</th>\n",
              "      <td>Islington</td>\n",
              "      <td>TfL</td>\n",
              "      <td>Greater London Authority (TfL)</td>\n",
              "      <td>'A1'</td>\n",
              "      <td>802006075.0</td>\n",
              "      <td>41.37313</td>\n",
              "      <td>59.78935</td>\n",
              "      <td>26.014367</td>\n",
              "      <td>28.59341</td>\n",
              "      <td>1.80995</td>\n",
              "      <td>...</td>\n",
              "      <td>1.645914</td>\n",
              "      <td>0.011868</td>\n",
              "      <td>6.901844</td>\n",
              "      <td>0.273848</td>\n",
              "      <td>2.779852</td>\n",
              "      <td>1.0</td>\n",
              "      <td>E09000019</td>\n",
              "      <td>'PU'</td>\n",
              "      <td>530600</td>\n",
              "      <td>185870</td>\n",
              "    </tr>\n",
              "  </tbody>\n",
              "</table>\n",
              "<p>5 rows × 45 columns</p>\n",
              "</div>\n",
              "    <div class=\"colab-df-buttons\">\n",
              "\n",
              "  <div class=\"colab-df-container\">\n",
              "    <button class=\"colab-df-convert\" onclick=\"convertToInteractive('df-922393f5-4b2a-47ce-8282-e45005ddbca2')\"\n",
              "            title=\"Convert this dataframe to an interactive table.\"\n",
              "            style=\"display:none;\">\n",
              "\n",
              "  <svg xmlns=\"http://www.w3.org/2000/svg\" height=\"24px\" viewBox=\"0 -960 960 960\">\n",
              "    <path d=\"M120-120v-720h720v720H120Zm60-500h600v-160H180v160Zm220 220h160v-160H400v160Zm0 220h160v-160H400v160ZM180-400h160v-160H180v160Zm440 0h160v-160H620v160ZM180-180h160v-160H180v160Zm440 0h160v-160H620v160Z\"/>\n",
              "  </svg>\n",
              "    </button>\n",
              "\n",
              "  <style>\n",
              "    .colab-df-container {\n",
              "      display:flex;\n",
              "      gap: 12px;\n",
              "    }\n",
              "\n",
              "    .colab-df-convert {\n",
              "      background-color: #E8F0FE;\n",
              "      border: none;\n",
              "      border-radius: 50%;\n",
              "      cursor: pointer;\n",
              "      display: none;\n",
              "      fill: #1967D2;\n",
              "      height: 32px;\n",
              "      padding: 0 0 0 0;\n",
              "      width: 32px;\n",
              "    }\n",
              "\n",
              "    .colab-df-convert:hover {\n",
              "      background-color: #E2EBFA;\n",
              "      box-shadow: 0px 1px 2px rgba(60, 64, 67, 0.3), 0px 1px 3px 1px rgba(60, 64, 67, 0.15);\n",
              "      fill: #174EA6;\n",
              "    }\n",
              "\n",
              "    .colab-df-buttons div {\n",
              "      margin-bottom: 4px;\n",
              "    }\n",
              "\n",
              "    [theme=dark] .colab-df-convert {\n",
              "      background-color: #3B4455;\n",
              "      fill: #D2E3FC;\n",
              "    }\n",
              "\n",
              "    [theme=dark] .colab-df-convert:hover {\n",
              "      background-color: #434B5C;\n",
              "      box-shadow: 0px 1px 3px 1px rgba(0, 0, 0, 0.15);\n",
              "      filter: drop-shadow(0px 1px 2px rgba(0, 0, 0, 0.3));\n",
              "      fill: #FFFFFF;\n",
              "    }\n",
              "  </style>\n",
              "\n",
              "    <script>\n",
              "      const buttonEl =\n",
              "        document.querySelector('#df-922393f5-4b2a-47ce-8282-e45005ddbca2 button.colab-df-convert');\n",
              "      buttonEl.style.display =\n",
              "        google.colab.kernel.accessAllowed ? 'block' : 'none';\n",
              "\n",
              "      async function convertToInteractive(key) {\n",
              "        const element = document.querySelector('#df-922393f5-4b2a-47ce-8282-e45005ddbca2');\n",
              "        const dataTable =\n",
              "          await google.colab.kernel.invokeFunction('convertToInteractive',\n",
              "                                                    [key], {});\n",
              "        if (!dataTable) return;\n",
              "\n",
              "        const docLinkHtml = 'Like what you see? Visit the ' +\n",
              "          '<a target=\"_blank\" href=https://colab.research.google.com/notebooks/data_table.ipynb>data table notebook</a>'\n",
              "          + ' to learn more about interactive tables.';\n",
              "        element.innerHTML = '';\n",
              "        dataTable['output_type'] = 'display_data';\n",
              "        await google.colab.output.renderOutput(dataTable, element);\n",
              "        const docLink = document.createElement('div');\n",
              "        docLink.innerHTML = docLinkHtml;\n",
              "        element.appendChild(docLink);\n",
              "      }\n",
              "    </script>\n",
              "  </div>\n",
              "\n",
              "\n",
              "<div id=\"df-863441c3-f5fb-4c6c-b061-24a6d586fa35\">\n",
              "  <button class=\"colab-df-quickchart\" onclick=\"quickchart('df-863441c3-f5fb-4c6c-b061-24a6d586fa35')\"\n",
              "            title=\"Suggest charts\"\n",
              "            style=\"display:none;\">\n",
              "\n",
              "<svg xmlns=\"http://www.w3.org/2000/svg\" height=\"24px\"viewBox=\"0 0 24 24\"\n",
              "     width=\"24px\">\n",
              "    <g>\n",
              "        <path d=\"M19 3H5c-1.1 0-2 .9-2 2v14c0 1.1.9 2 2 2h14c1.1 0 2-.9 2-2V5c0-1.1-.9-2-2-2zM9 17H7v-7h2v7zm4 0h-2V7h2v10zm4 0h-2v-4h2v4z\"/>\n",
              "    </g>\n",
              "</svg>\n",
              "  </button>\n",
              "\n",
              "<style>\n",
              "  .colab-df-quickchart {\n",
              "      --bg-color: #E8F0FE;\n",
              "      --fill-color: #1967D2;\n",
              "      --hover-bg-color: #E2EBFA;\n",
              "      --hover-fill-color: #174EA6;\n",
              "      --disabled-fill-color: #AAA;\n",
              "      --disabled-bg-color: #DDD;\n",
              "  }\n",
              "\n",
              "  [theme=dark] .colab-df-quickchart {\n",
              "      --bg-color: #3B4455;\n",
              "      --fill-color: #D2E3FC;\n",
              "      --hover-bg-color: #434B5C;\n",
              "      --hover-fill-color: #FFFFFF;\n",
              "      --disabled-bg-color: #3B4455;\n",
              "      --disabled-fill-color: #666;\n",
              "  }\n",
              "\n",
              "  .colab-df-quickchart {\n",
              "    background-color: var(--bg-color);\n",
              "    border: none;\n",
              "    border-radius: 50%;\n",
              "    cursor: pointer;\n",
              "    display: none;\n",
              "    fill: var(--fill-color);\n",
              "    height: 32px;\n",
              "    padding: 0;\n",
              "    width: 32px;\n",
              "  }\n",
              "\n",
              "  .colab-df-quickchart:hover {\n",
              "    background-color: var(--hover-bg-color);\n",
              "    box-shadow: 0 1px 2px rgba(60, 64, 67, 0.3), 0 1px 3px 1px rgba(60, 64, 67, 0.15);\n",
              "    fill: var(--button-hover-fill-color);\n",
              "  }\n",
              "\n",
              "  .colab-df-quickchart-complete:disabled,\n",
              "  .colab-df-quickchart-complete:disabled:hover {\n",
              "    background-color: var(--disabled-bg-color);\n",
              "    fill: var(--disabled-fill-color);\n",
              "    box-shadow: none;\n",
              "  }\n",
              "\n",
              "  .colab-df-spinner {\n",
              "    border: 2px solid var(--fill-color);\n",
              "    border-color: transparent;\n",
              "    border-bottom-color: var(--fill-color);\n",
              "    animation:\n",
              "      spin 1s steps(1) infinite;\n",
              "  }\n",
              "\n",
              "  @keyframes spin {\n",
              "    0% {\n",
              "      border-color: transparent;\n",
              "      border-bottom-color: var(--fill-color);\n",
              "      border-left-color: var(--fill-color);\n",
              "    }\n",
              "    20% {\n",
              "      border-color: transparent;\n",
              "      border-left-color: var(--fill-color);\n",
              "      border-top-color: var(--fill-color);\n",
              "    }\n",
              "    30% {\n",
              "      border-color: transparent;\n",
              "      border-left-color: var(--fill-color);\n",
              "      border-top-color: var(--fill-color);\n",
              "      border-right-color: var(--fill-color);\n",
              "    }\n",
              "    40% {\n",
              "      border-color: transparent;\n",
              "      border-right-color: var(--fill-color);\n",
              "      border-top-color: var(--fill-color);\n",
              "    }\n",
              "    60% {\n",
              "      border-color: transparent;\n",
              "      border-right-color: var(--fill-color);\n",
              "    }\n",
              "    80% {\n",
              "      border-color: transparent;\n",
              "      border-right-color: var(--fill-color);\n",
              "      border-bottom-color: var(--fill-color);\n",
              "    }\n",
              "    90% {\n",
              "      border-color: transparent;\n",
              "      border-bottom-color: var(--fill-color);\n",
              "    }\n",
              "  }\n",
              "</style>\n",
              "\n",
              "  <script>\n",
              "    async function quickchart(key) {\n",
              "      const quickchartButtonEl =\n",
              "        document.querySelector('#' + key + ' button');\n",
              "      quickchartButtonEl.disabled = true;  // To prevent multiple clicks.\n",
              "      quickchartButtonEl.classList.add('colab-df-spinner');\n",
              "      try {\n",
              "        const charts = await google.colab.kernel.invokeFunction(\n",
              "            'suggestCharts', [key], {});\n",
              "      } catch (error) {\n",
              "        console.error('Error during call to suggestCharts:', error);\n",
              "      }\n",
              "      quickchartButtonEl.classList.remove('colab-df-spinner');\n",
              "      quickchartButtonEl.classList.add('colab-df-quickchart-complete');\n",
              "    }\n",
              "    (() => {\n",
              "      let quickchartButtonEl =\n",
              "        document.querySelector('#df-863441c3-f5fb-4c6c-b061-24a6d586fa35 button');\n",
              "      quickchartButtonEl.style.display =\n",
              "        google.colab.kernel.accessAllowed ? 'block' : 'none';\n",
              "    })();\n",
              "  </script>\n",
              "</div>\n",
              "\n",
              "    </div>\n",
              "  </div>\n"
            ],
            "application/vnd.google.colaboratory.intrinsic+json": {
              "type": "dataframe",
              "variable_name": "source_apportionment"
            }
          },
          "metadata": {},
          "execution_count": 5
        }
      ]
    },
    {
      "cell_type": "markdown",
      "source": [
        "The Source Apportionment sheet contains data related to NOx and NO2 concentrations, as well as background and roadside measurements. However, there is no stated or explicit time column. So it was not possible to plot a relevant graph in time.\n",
        "\n",
        "To apply time series analysis effectively one needs to &rArr;\n",
        "\n",
        "Assess Data Representation: Check if each row corresponds to daily measurements or if data for a single year is presented in another temporal structure (e.g., averages, predictions).\\\n",
        "Extract Relevant Columns: Focus on columns like:\n",
        "\"Background and Total concentrations of NOx and NO2 in µgm-3\"\n",
        "\"Background NOx\" and \"Total roadside NOx\"\n",
        "Look for trends or periodicity for analysis."
      ],
      "metadata": {
        "id": "iXidIRX44QAn"
      }
    },
    {
      "cell_type": "markdown",
      "source": [
        "## Task 3(b): Reproducing and Communicating a Graphical Plot\n",
        "\n",
        "### Selected Plot\n",
        "The plot chosen from the **UK Government COVID-19 Dashboard** visualizes the **daily number of COVID-19 patients admitted to hospitals**. The original chart uses a bar plot to display fluctuations over time. The screenshot of the original plot is shown below:\n",
        "![Patients admitted to hospital daily graph](https://drive.google.com/uc?export=view&id=1JkBQo0B5pe8l-uBiaXtbL0Ir-SwqP9Xq)\n",
        "\n",
        "\n"
      ],
      "metadata": {
        "id": "iAt2xdtGNclw"
      }
    },
    {
      "cell_type": "markdown",
      "source": [
        "###Importing the Dataset\n",
        "\n",
        "After downloading the dataset from the site, the data can now be accesssed locally.\n",
        "The dataset needs to be loaded into the Jupyter Notebooks, since google colabs was used for this the dataset can be accessed by uploading it to the colabs notebook temporarily and the it can be stored on Google Drive to be easily and always accessible.\n",
        "\n",
        "Using this code snippet from stack overflow the csv file on google colabs can now be loaded into the code:\n",
        "```python\n",
        "import pandas as pd\n",
        "url='https://drive.google.com/file/d/0B6GhBwm5vaB2ekdlZW5WZnppb28/view?usp=sharing'\n",
        "url='https://drive.google.com/uc?id=' + url.split('/')[-2]\n",
        "df = pd.read_csv(url)\n",
        "```\n",
        "\n",
        "The 2nd to the last string is shown to be the most important value in the google drive url, so one can extract it by hand to have the url that can be read by pandas, ```url='https://drive.google.com/uc?id=0B6GhBwm5vaB2ekdlZW5WZnppb28'```.\n",
        "\n"
      ],
      "metadata": {
        "id": "aXUud1JCYxhi"
      }
    },
    {
      "cell_type": "code",
      "source": [
        "# URL for the covid data on google drive\n",
        "covid_data_csv_url = 'https://drive.google.com/uc?export=view&id=1oLu6xP4eEROJht6I57VVFLuDzlWEafFZ'\n"
      ],
      "metadata": {
        "id": "ChLrvhWBBSXi"
      },
      "execution_count": null,
      "outputs": []
    },
    {
      "cell_type": "markdown",
      "source": [
        "### Analyzing the dataset\n",
        "\n",
        "Looking through the dataset is important to enable one note the contents of the dataset and the correct column names and arrangement, to allow easy manipulation or working with data.\n",
        "\n",
        "Some of the common functions that can be used are:\n",
        "\n",
        "\n",
        "*   dataset.head() - By default prints the first 5 values of the pandas dataframe.\n",
        "*   dataset.tail() - By default prints the last 5 values of the pandas dataframe.\n",
        "*   dataset.describe() - This gives a basic statistical analysis on the dataset.\n",
        "*   dataset.max() - This prints out the maximum value in every column of the dataset, it can be applied specifically using indexing.\n",
        "*   dataset.min() - This prints out the minimum value in every column of the dataset, it can be applied specifically using indexing.\n",
        "*   dataset.count() - This is used to count values in the dataset.\n",
        "*   dataset.unique() - This checks for unique values in a dataset and prints it out.\n",
        "*   dataset.nunique() - This counts the unique values in a dataset.\n",
        "E.T.C."
      ],
      "metadata": {
        "id": "BIIKjD-BcaB7"
      }
    },
    {
      "cell_type": "code",
      "source": [
        "# Loading Necessary modules\n",
        "import matplotlib.pyplot as plt\n",
        "import seaborn as sns\n",
        "import plotly.express as px\n",
        "\n",
        "# Load COVID-19 data\n",
        "covid_data = pd.read_csv(covid_data_csv_url)\n",
        "covid_data.head()"
      ],
      "metadata": {
        "colab": {
          "base_uri": "https://localhost:8080/",
          "height": 313
        },
        "id": "rHcJ0g0FCPTj",
        "outputId": "64a77ea6-bfef-46f6-d036-bd17fa44263d"
      },
      "execution_count": null,
      "outputs": [
        {
          "output_type": "execute_result",
          "data": {
            "text/plain": [
              "                theme    sub_theme     topic geography_type geography  \\\n",
              "0  infectious_disease  respiratory  COVID-19         Nation   England   \n",
              "1  infectious_disease  respiratory  COVID-19         Nation   England   \n",
              "2  infectious_disease  respiratory  COVID-19         Nation   England   \n",
              "3  infectious_disease  respiratory  COVID-19         Nation   England   \n",
              "4  infectious_disease  respiratory  COVID-19         Nation   England   \n",
              "\n",
              "                               metric  sex  age  stratum  year        date  \\\n",
              "0  COVID-19_healthcare_admissionByDay  all  all  default  2024  2024-10-31   \n",
              "1  COVID-19_healthcare_admissionByDay  all  all  default  2024  2024-10-30   \n",
              "2  COVID-19_healthcare_admissionByDay  all  all  default  2024  2024-10-29   \n",
              "3  COVID-19_healthcare_admissionByDay  all  all  default  2024  2024-10-28   \n",
              "4  COVID-19_healthcare_admissionByDay  all  all  default  2024  2024-10-27   \n",
              "\n",
              "   metric_value  in_reporting_delay_period  \n",
              "0         253.0                      False  \n",
              "1         282.0                      False  \n",
              "2         285.0                      False  \n",
              "3         317.0                      False  \n",
              "4         281.0                      False  "
            ],
            "text/html": [
              "\n",
              "  <div id=\"df-8b4aba22-fec6-4a9b-be2f-41feeec743e3\" class=\"colab-df-container\">\n",
              "    <div>\n",
              "<style scoped>\n",
              "    .dataframe tbody tr th:only-of-type {\n",
              "        vertical-align: middle;\n",
              "    }\n",
              "\n",
              "    .dataframe tbody tr th {\n",
              "        vertical-align: top;\n",
              "    }\n",
              "\n",
              "    .dataframe thead th {\n",
              "        text-align: right;\n",
              "    }\n",
              "</style>\n",
              "<table border=\"1\" class=\"dataframe\">\n",
              "  <thead>\n",
              "    <tr style=\"text-align: right;\">\n",
              "      <th></th>\n",
              "      <th>theme</th>\n",
              "      <th>sub_theme</th>\n",
              "      <th>topic</th>\n",
              "      <th>geography_type</th>\n",
              "      <th>geography</th>\n",
              "      <th>metric</th>\n",
              "      <th>sex</th>\n",
              "      <th>age</th>\n",
              "      <th>stratum</th>\n",
              "      <th>year</th>\n",
              "      <th>date</th>\n",
              "      <th>metric_value</th>\n",
              "      <th>in_reporting_delay_period</th>\n",
              "    </tr>\n",
              "  </thead>\n",
              "  <tbody>\n",
              "    <tr>\n",
              "      <th>0</th>\n",
              "      <td>infectious_disease</td>\n",
              "      <td>respiratory</td>\n",
              "      <td>COVID-19</td>\n",
              "      <td>Nation</td>\n",
              "      <td>England</td>\n",
              "      <td>COVID-19_healthcare_admissionByDay</td>\n",
              "      <td>all</td>\n",
              "      <td>all</td>\n",
              "      <td>default</td>\n",
              "      <td>2024</td>\n",
              "      <td>2024-10-31</td>\n",
              "      <td>253.0</td>\n",
              "      <td>False</td>\n",
              "    </tr>\n",
              "    <tr>\n",
              "      <th>1</th>\n",
              "      <td>infectious_disease</td>\n",
              "      <td>respiratory</td>\n",
              "      <td>COVID-19</td>\n",
              "      <td>Nation</td>\n",
              "      <td>England</td>\n",
              "      <td>COVID-19_healthcare_admissionByDay</td>\n",
              "      <td>all</td>\n",
              "      <td>all</td>\n",
              "      <td>default</td>\n",
              "      <td>2024</td>\n",
              "      <td>2024-10-30</td>\n",
              "      <td>282.0</td>\n",
              "      <td>False</td>\n",
              "    </tr>\n",
              "    <tr>\n",
              "      <th>2</th>\n",
              "      <td>infectious_disease</td>\n",
              "      <td>respiratory</td>\n",
              "      <td>COVID-19</td>\n",
              "      <td>Nation</td>\n",
              "      <td>England</td>\n",
              "      <td>COVID-19_healthcare_admissionByDay</td>\n",
              "      <td>all</td>\n",
              "      <td>all</td>\n",
              "      <td>default</td>\n",
              "      <td>2024</td>\n",
              "      <td>2024-10-29</td>\n",
              "      <td>285.0</td>\n",
              "      <td>False</td>\n",
              "    </tr>\n",
              "    <tr>\n",
              "      <th>3</th>\n",
              "      <td>infectious_disease</td>\n",
              "      <td>respiratory</td>\n",
              "      <td>COVID-19</td>\n",
              "      <td>Nation</td>\n",
              "      <td>England</td>\n",
              "      <td>COVID-19_healthcare_admissionByDay</td>\n",
              "      <td>all</td>\n",
              "      <td>all</td>\n",
              "      <td>default</td>\n",
              "      <td>2024</td>\n",
              "      <td>2024-10-28</td>\n",
              "      <td>317.0</td>\n",
              "      <td>False</td>\n",
              "    </tr>\n",
              "    <tr>\n",
              "      <th>4</th>\n",
              "      <td>infectious_disease</td>\n",
              "      <td>respiratory</td>\n",
              "      <td>COVID-19</td>\n",
              "      <td>Nation</td>\n",
              "      <td>England</td>\n",
              "      <td>COVID-19_healthcare_admissionByDay</td>\n",
              "      <td>all</td>\n",
              "      <td>all</td>\n",
              "      <td>default</td>\n",
              "      <td>2024</td>\n",
              "      <td>2024-10-27</td>\n",
              "      <td>281.0</td>\n",
              "      <td>False</td>\n",
              "    </tr>\n",
              "  </tbody>\n",
              "</table>\n",
              "</div>\n",
              "    <div class=\"colab-df-buttons\">\n",
              "\n",
              "  <div class=\"colab-df-container\">\n",
              "    <button class=\"colab-df-convert\" onclick=\"convertToInteractive('df-8b4aba22-fec6-4a9b-be2f-41feeec743e3')\"\n",
              "            title=\"Convert this dataframe to an interactive table.\"\n",
              "            style=\"display:none;\">\n",
              "\n",
              "  <svg xmlns=\"http://www.w3.org/2000/svg\" height=\"24px\" viewBox=\"0 -960 960 960\">\n",
              "    <path d=\"M120-120v-720h720v720H120Zm60-500h600v-160H180v160Zm220 220h160v-160H400v160Zm0 220h160v-160H400v160ZM180-400h160v-160H180v160Zm440 0h160v-160H620v160ZM180-180h160v-160H180v160Zm440 0h160v-160H620v160Z\"/>\n",
              "  </svg>\n",
              "    </button>\n",
              "\n",
              "  <style>\n",
              "    .colab-df-container {\n",
              "      display:flex;\n",
              "      gap: 12px;\n",
              "    }\n",
              "\n",
              "    .colab-df-convert {\n",
              "      background-color: #E8F0FE;\n",
              "      border: none;\n",
              "      border-radius: 50%;\n",
              "      cursor: pointer;\n",
              "      display: none;\n",
              "      fill: #1967D2;\n",
              "      height: 32px;\n",
              "      padding: 0 0 0 0;\n",
              "      width: 32px;\n",
              "    }\n",
              "\n",
              "    .colab-df-convert:hover {\n",
              "      background-color: #E2EBFA;\n",
              "      box-shadow: 0px 1px 2px rgba(60, 64, 67, 0.3), 0px 1px 3px 1px rgba(60, 64, 67, 0.15);\n",
              "      fill: #174EA6;\n",
              "    }\n",
              "\n",
              "    .colab-df-buttons div {\n",
              "      margin-bottom: 4px;\n",
              "    }\n",
              "\n",
              "    [theme=dark] .colab-df-convert {\n",
              "      background-color: #3B4455;\n",
              "      fill: #D2E3FC;\n",
              "    }\n",
              "\n",
              "    [theme=dark] .colab-df-convert:hover {\n",
              "      background-color: #434B5C;\n",
              "      box-shadow: 0px 1px 3px 1px rgba(0, 0, 0, 0.15);\n",
              "      filter: drop-shadow(0px 1px 2px rgba(0, 0, 0, 0.3));\n",
              "      fill: #FFFFFF;\n",
              "    }\n",
              "  </style>\n",
              "\n",
              "    <script>\n",
              "      const buttonEl =\n",
              "        document.querySelector('#df-8b4aba22-fec6-4a9b-be2f-41feeec743e3 button.colab-df-convert');\n",
              "      buttonEl.style.display =\n",
              "        google.colab.kernel.accessAllowed ? 'block' : 'none';\n",
              "\n",
              "      async function convertToInteractive(key) {\n",
              "        const element = document.querySelector('#df-8b4aba22-fec6-4a9b-be2f-41feeec743e3');\n",
              "        const dataTable =\n",
              "          await google.colab.kernel.invokeFunction('convertToInteractive',\n",
              "                                                    [key], {});\n",
              "        if (!dataTable) return;\n",
              "\n",
              "        const docLinkHtml = 'Like what you see? Visit the ' +\n",
              "          '<a target=\"_blank\" href=https://colab.research.google.com/notebooks/data_table.ipynb>data table notebook</a>'\n",
              "          + ' to learn more about interactive tables.';\n",
              "        element.innerHTML = '';\n",
              "        dataTable['output_type'] = 'display_data';\n",
              "        await google.colab.output.renderOutput(dataTable, element);\n",
              "        const docLink = document.createElement('div');\n",
              "        docLink.innerHTML = docLinkHtml;\n",
              "        element.appendChild(docLink);\n",
              "      }\n",
              "    </script>\n",
              "  </div>\n",
              "\n",
              "\n",
              "<div id=\"df-99967297-9f13-488b-981c-f110cb62a1bd\">\n",
              "  <button class=\"colab-df-quickchart\" onclick=\"quickchart('df-99967297-9f13-488b-981c-f110cb62a1bd')\"\n",
              "            title=\"Suggest charts\"\n",
              "            style=\"display:none;\">\n",
              "\n",
              "<svg xmlns=\"http://www.w3.org/2000/svg\" height=\"24px\"viewBox=\"0 0 24 24\"\n",
              "     width=\"24px\">\n",
              "    <g>\n",
              "        <path d=\"M19 3H5c-1.1 0-2 .9-2 2v14c0 1.1.9 2 2 2h14c1.1 0 2-.9 2-2V5c0-1.1-.9-2-2-2zM9 17H7v-7h2v7zm4 0h-2V7h2v10zm4 0h-2v-4h2v4z\"/>\n",
              "    </g>\n",
              "</svg>\n",
              "  </button>\n",
              "\n",
              "<style>\n",
              "  .colab-df-quickchart {\n",
              "      --bg-color: #E8F0FE;\n",
              "      --fill-color: #1967D2;\n",
              "      --hover-bg-color: #E2EBFA;\n",
              "      --hover-fill-color: #174EA6;\n",
              "      --disabled-fill-color: #AAA;\n",
              "      --disabled-bg-color: #DDD;\n",
              "  }\n",
              "\n",
              "  [theme=dark] .colab-df-quickchart {\n",
              "      --bg-color: #3B4455;\n",
              "      --fill-color: #D2E3FC;\n",
              "      --hover-bg-color: #434B5C;\n",
              "      --hover-fill-color: #FFFFFF;\n",
              "      --disabled-bg-color: #3B4455;\n",
              "      --disabled-fill-color: #666;\n",
              "  }\n",
              "\n",
              "  .colab-df-quickchart {\n",
              "    background-color: var(--bg-color);\n",
              "    border: none;\n",
              "    border-radius: 50%;\n",
              "    cursor: pointer;\n",
              "    display: none;\n",
              "    fill: var(--fill-color);\n",
              "    height: 32px;\n",
              "    padding: 0;\n",
              "    width: 32px;\n",
              "  }\n",
              "\n",
              "  .colab-df-quickchart:hover {\n",
              "    background-color: var(--hover-bg-color);\n",
              "    box-shadow: 0 1px 2px rgba(60, 64, 67, 0.3), 0 1px 3px 1px rgba(60, 64, 67, 0.15);\n",
              "    fill: var(--button-hover-fill-color);\n",
              "  }\n",
              "\n",
              "  .colab-df-quickchart-complete:disabled,\n",
              "  .colab-df-quickchart-complete:disabled:hover {\n",
              "    background-color: var(--disabled-bg-color);\n",
              "    fill: var(--disabled-fill-color);\n",
              "    box-shadow: none;\n",
              "  }\n",
              "\n",
              "  .colab-df-spinner {\n",
              "    border: 2px solid var(--fill-color);\n",
              "    border-color: transparent;\n",
              "    border-bottom-color: var(--fill-color);\n",
              "    animation:\n",
              "      spin 1s steps(1) infinite;\n",
              "  }\n",
              "\n",
              "  @keyframes spin {\n",
              "    0% {\n",
              "      border-color: transparent;\n",
              "      border-bottom-color: var(--fill-color);\n",
              "      border-left-color: var(--fill-color);\n",
              "    }\n",
              "    20% {\n",
              "      border-color: transparent;\n",
              "      border-left-color: var(--fill-color);\n",
              "      border-top-color: var(--fill-color);\n",
              "    }\n",
              "    30% {\n",
              "      border-color: transparent;\n",
              "      border-left-color: var(--fill-color);\n",
              "      border-top-color: var(--fill-color);\n",
              "      border-right-color: var(--fill-color);\n",
              "    }\n",
              "    40% {\n",
              "      border-color: transparent;\n",
              "      border-right-color: var(--fill-color);\n",
              "      border-top-color: var(--fill-color);\n",
              "    }\n",
              "    60% {\n",
              "      border-color: transparent;\n",
              "      border-right-color: var(--fill-color);\n",
              "    }\n",
              "    80% {\n",
              "      border-color: transparent;\n",
              "      border-right-color: var(--fill-color);\n",
              "      border-bottom-color: var(--fill-color);\n",
              "    }\n",
              "    90% {\n",
              "      border-color: transparent;\n",
              "      border-bottom-color: var(--fill-color);\n",
              "    }\n",
              "  }\n",
              "</style>\n",
              "\n",
              "  <script>\n",
              "    async function quickchart(key) {\n",
              "      const quickchartButtonEl =\n",
              "        document.querySelector('#' + key + ' button');\n",
              "      quickchartButtonEl.disabled = true;  // To prevent multiple clicks.\n",
              "      quickchartButtonEl.classList.add('colab-df-spinner');\n",
              "      try {\n",
              "        const charts = await google.colab.kernel.invokeFunction(\n",
              "            'suggestCharts', [key], {});\n",
              "      } catch (error) {\n",
              "        console.error('Error during call to suggestCharts:', error);\n",
              "      }\n",
              "      quickchartButtonEl.classList.remove('colab-df-spinner');\n",
              "      quickchartButtonEl.classList.add('colab-df-quickchart-complete');\n",
              "    }\n",
              "    (() => {\n",
              "      let quickchartButtonEl =\n",
              "        document.querySelector('#df-99967297-9f13-488b-981c-f110cb62a1bd button');\n",
              "      quickchartButtonEl.style.display =\n",
              "        google.colab.kernel.accessAllowed ? 'block' : 'none';\n",
              "    })();\n",
              "  </script>\n",
              "</div>\n",
              "\n",
              "    </div>\n",
              "  </div>\n"
            ],
            "application/vnd.google.colaboratory.intrinsic+json": {
              "type": "dataframe",
              "variable_name": "covid_data",
              "summary": "{\n  \"name\": \"covid_data\",\n  \"rows\": 366,\n  \"fields\": [\n    {\n      \"column\": \"theme\",\n      \"properties\": {\n        \"dtype\": \"category\",\n        \"num_unique_values\": 1,\n        \"samples\": [\n          \"infectious_disease\"\n        ],\n        \"semantic_type\": \"\",\n        \"description\": \"\"\n      }\n    },\n    {\n      \"column\": \"sub_theme\",\n      \"properties\": {\n        \"dtype\": \"category\",\n        \"num_unique_values\": 1,\n        \"samples\": [\n          \"respiratory\"\n        ],\n        \"semantic_type\": \"\",\n        \"description\": \"\"\n      }\n    },\n    {\n      \"column\": \"topic\",\n      \"properties\": {\n        \"dtype\": \"category\",\n        \"num_unique_values\": 1,\n        \"samples\": [\n          \"COVID-19\"\n        ],\n        \"semantic_type\": \"\",\n        \"description\": \"\"\n      }\n    },\n    {\n      \"column\": \"geography_type\",\n      \"properties\": {\n        \"dtype\": \"category\",\n        \"num_unique_values\": 1,\n        \"samples\": [\n          \"Nation\"\n        ],\n        \"semantic_type\": \"\",\n        \"description\": \"\"\n      }\n    },\n    {\n      \"column\": \"geography\",\n      \"properties\": {\n        \"dtype\": \"category\",\n        \"num_unique_values\": 1,\n        \"samples\": [\n          \"England\"\n        ],\n        \"semantic_type\": \"\",\n        \"description\": \"\"\n      }\n    },\n    {\n      \"column\": \"metric\",\n      \"properties\": {\n        \"dtype\": \"category\",\n        \"num_unique_values\": 1,\n        \"samples\": [\n          \"COVID-19_healthcare_admissionByDay\"\n        ],\n        \"semantic_type\": \"\",\n        \"description\": \"\"\n      }\n    },\n    {\n      \"column\": \"sex\",\n      \"properties\": {\n        \"dtype\": \"category\",\n        \"num_unique_values\": 1,\n        \"samples\": [\n          \"all\"\n        ],\n        \"semantic_type\": \"\",\n        \"description\": \"\"\n      }\n    },\n    {\n      \"column\": \"age\",\n      \"properties\": {\n        \"dtype\": \"category\",\n        \"num_unique_values\": 1,\n        \"samples\": [\n          \"all\"\n        ],\n        \"semantic_type\": \"\",\n        \"description\": \"\"\n      }\n    },\n    {\n      \"column\": \"stratum\",\n      \"properties\": {\n        \"dtype\": \"category\",\n        \"num_unique_values\": 1,\n        \"samples\": [\n          \"default\"\n        ],\n        \"semantic_type\": \"\",\n        \"description\": \"\"\n      }\n    },\n    {\n      \"column\": \"year\",\n      \"properties\": {\n        \"dtype\": \"number\",\n        \"std\": 0,\n        \"min\": 2023,\n        \"max\": 2024,\n        \"num_unique_values\": 2,\n        \"samples\": [\n          2023\n        ],\n        \"semantic_type\": \"\",\n        \"description\": \"\"\n      }\n    },\n    {\n      \"column\": \"date\",\n      \"properties\": {\n        \"dtype\": \"object\",\n        \"num_unique_values\": 366,\n        \"samples\": [\n          \"2024-04-21\"\n        ],\n        \"semantic_type\": \"\",\n        \"description\": \"\"\n      }\n    },\n    {\n      \"column\": \"metric_value\",\n      \"properties\": {\n        \"dtype\": \"number\",\n        \"std\": 121.14616363527641,\n        \"min\": 112.0,\n        \"max\": 673.0,\n        \"num_unique_values\": 248,\n        \"samples\": [\n          302.0\n        ],\n        \"semantic_type\": \"\",\n        \"description\": \"\"\n      }\n    },\n    {\n      \"column\": \"in_reporting_delay_period\",\n      \"properties\": {\n        \"dtype\": \"boolean\",\n        \"num_unique_values\": 1,\n        \"samples\": [\n          false\n        ],\n        \"semantic_type\": \"\",\n        \"description\": \"\"\n      }\n    }\n  ]\n}"
            }
          },
          "metadata": {},
          "execution_count": 20
        }
      ]
    },
    {
      "cell_type": "code",
      "source": [
        "# Checking the total number of values in the date column\n",
        "covid_data['date'].count()"
      ],
      "metadata": {
        "colab": {
          "base_uri": "https://localhost:8080/"
        },
        "id": "XxITcaeSd0Ew",
        "outputId": "3425b643-9e5d-4bc9-ae08-bf2827588c2d"
      },
      "execution_count": null,
      "outputs": [
        {
          "output_type": "execute_result",
          "data": {
            "text/plain": [
              "366"
            ]
          },
          "metadata": {},
          "execution_count": 61
        }
      ]
    },
    {
      "cell_type": "code",
      "source": [
        "# checking if the total number of date values equals it's total number of unique values\n",
        "covid_data['date'].nunique()"
      ],
      "metadata": {
        "colab": {
          "base_uri": "https://localhost:8080/"
        },
        "id": "xeUbb1Chj2Sj",
        "outputId": "cd8d06ca-1e0c-4daa-821b-346eebb60139"
      },
      "execution_count": null,
      "outputs": [
        {
          "output_type": "execute_result",
          "data": {
            "text/plain": [
              "366"
            ]
          },
          "metadata": {},
          "execution_count": 62
        }
      ]
    },
    {
      "cell_type": "code",
      "source": [
        "# Convert the 'date' column to datetime\n",
        "covid_data['date'] = pd.to_datetime(covid_data['date'])\n",
        "\n",
        "# Filter relevant columns and extract them to use and plot graph\n",
        "plot_data = covid_data[['date', 'metric_value']].sort_values(by='date')\n",
        "\n",
        "# Display basic statistics to confirm the data is ready for plotting\n",
        "plot_data.describe(), plot_data.head()\n"
      ],
      "metadata": {
        "colab": {
          "base_uri": "https://localhost:8080/"
        },
        "id": "0X9mwxTPFYTu",
        "outputId": "b2f51190-8e99-4bd3-aa9a-ae66322fbec5"
      },
      "execution_count": null,
      "outputs": [
        {
          "output_type": "execute_result",
          "data": {
            "text/plain": [
              "(                                date  metric_value\n",
              " count                            366    366.000000\n",
              " mean   2024-05-01 11:59:59.999999744    321.846995\n",
              " min              2023-11-01 00:00:00    112.000000\n",
              " 25%              2024-01-31 06:00:00    224.750000\n",
              " 50%              2024-05-01 12:00:00    303.500000\n",
              " 75%              2024-07-31 18:00:00    413.000000\n",
              " max              2024-10-31 00:00:00    673.000000\n",
              " std                              NaN    121.146164,\n",
              "           date  metric_value\n",
              " 365 2023-11-01         378.0\n",
              " 364 2023-11-02         379.0\n",
              " 363 2023-11-03         289.0\n",
              " 362 2023-11-04         294.0\n",
              " 361 2023-11-05         362.0)"
            ]
          },
          "metadata": {},
          "execution_count": 21
        }
      ]
    },
    {
      "cell_type": "markdown",
      "source": [
        "### Reproducing the graph\n",
        "1. **Seaborn:** A bar chart was used to replicate the dataset visualization from the UK Government COVID-19 Dashboard. Seaborn's `barplot()` function provided a simple yet accurate representation.\n",
        "\n",
        "2. **Plotly:** To add interactivity, a bar chart was recreated using Plotly. Users can hover over data points to view precise values and explore trends dynamically.\n",
        "\n",
        "### Challenges\n",
        "- **Seaborn:** Managing the large dataset (over 366 daily data points) required careful handling of x-axis labels to prevent overcrowding, which was a challenge for the x label.\n",
        "\n",
        "- **Plotly:** Customizing the bar chart to maintain a similar aesthetic as the original plot required additional configuration.\n"
      ],
      "metadata": {
        "id": "fKhOlOh5kxwF"
      }
    },
    {
      "cell_type": "code",
      "source": [
        "\n",
        "# Create the histogram-like bar plot\n",
        "plt.figure(figsize=(12, 6))\n",
        "sns.set_theme(style=\"darkgrid\")\n",
        "\n",
        "# Bar plot for the data\n",
        "sns.barplot(data=plot_data, x=\"date\", y=\"metric_value\", color=\"steelblue\")\n",
        "\n",
        "# Customizing x-axis labels to show fewer ticks and fix overcrowding\n",
        "tick_indices = range(0, len(plot_data), 30)  # Indices for every 30th day\n",
        "tick_labels = plot_data[\"date\"].iloc[tick_indices].dt.strftime('%Y-%m-%d')  # Formatting the Datetime data to string\n",
        "plt.gca().set_xticks(tick_indices)\n",
        "plt.gca().set_xticklabels(tick_labels, rotation=45)\n",
        "\n",
        "# Add titles and labels\n",
        "plt.title(\"Daily Number of COVID-19 Patients Admitted to Hospital\", fontsize=14)\n",
        "plt.xlabel(\"Date\", fontsize=12)\n",
        "plt.ylabel(\"Number of Patients\", fontsize=12)\n",
        "plt.ylim(0, 700)  # Match y-axis scale to the original plot\n",
        "plt.xticks(rotation=45)  # Rotate x-axis labels for better visibility\n",
        "\n",
        "# Show the plot\n",
        "plt.tight_layout()\n",
        "plt.show()\n"
      ],
      "metadata": {
        "colab": {
          "base_uri": "https://localhost:8080/",
          "height": 283
        },
        "id": "1aePro1WIJ80",
        "outputId": "5cec0238-9c66-449b-e422-891cfe702551"
      },
      "execution_count": null,
      "outputs": [
        {
          "output_type": "display_data",
          "data": {
            "text/plain": [
              "<Figure size 1200x600 with 1 Axes>"
            ],
            "image/png": "[encoded data removed]"
          },
          "metadata": {}
        }
      ]
    },
    {
      "cell_type": "markdown",
      "source": [
        "#### Code Explanation\n",
        "\n",
        "##### `tick_indices = range(0, len(plot_data), 30)`\n",
        "- Creates a sequence of indices starting from `0` to the length of the dataset (`len(plot_data)`), stepping every 30th index.\n",
        "- This is used to select x-axis tick positions at intervals of 30 days, reducing the number of labels displayed and preventing overcrowding.\n",
        "\n",
        "##### `tick_labels = plot_data[\"date\"].iloc[tick_indices].dt.strftime('%Y-%m-%d')`\n",
        "- Extracts the dates corresponding to the `tick_indices` from the `\"date\"` column in the `plot_data` DataFrame.\n",
        "- Formats these dates into strings using the format `'YYYY-MM-DD'` (e.g., \"2024-11-08\") to create readable labels for the x-axis.\n",
        "\n",
        "##### `plt.gca().set_xticks(tick_indices)`\n",
        "- `plt.gca()` gets the current axes object of the plot.\n",
        "- `set_xticks(tick_indices)` sets the x-axis tick positions at the indices specified in `tick_indices`.\n",
        "\n",
        "##### `plt.gca().set_xticklabels(tick_labels, rotation=45)`\n",
        "- Assigns the formatted labels (`tick_labels`) to the tick positions.\n",
        "- Rotates the labels by 45 degrees for better visibility, especially when the labels are long (e.g., dates).\n",
        "\n",
        "#### Purpose\n",
        "1. **Reducing Overcrowding**: By only showing a tick label every 30 days, the x-axis remains uncrowded.\n",
        "2. **Improving Readability**: Formatting the dates and rotating them ensures that the labels are easy to read while still conveying the necessary information about time intervals.\n"
      ],
      "metadata": {
        "id": "Cwe_vLk_oYyL"
      }
    },
    {
      "cell_type": "code",
      "source": [
        "# Create the Seaborn plot\n",
        "plt.figure(figsize=(12, 6))\n",
        "sns.set_theme(style=\"darkgrid\")\n",
        "\n",
        "# Line plot for the data\n",
        "sns.lineplot(data=plot_data, x=\"date\", y=\"metric_value\", color=\"steelblue\", linewidth=2)\n",
        "\n",
        "# Add titles and labels to match the original plot\n",
        "plt.title(\"Daily number of COVID-19 patients admitted to hospital\", fontsize=14)\n",
        "plt.xlabel(\"Date\", fontsize=12)\n",
        "plt.ylabel(\"Number of Patients\", fontsize=12)\n",
        "plt.ylim(0, 700)  # Match y-axis scale to the original plot\n",
        "\n",
        "# Show the plot\n",
        "plt.tight_layout()\n",
        "plt.show()\n",
        "\n",
        "# Plotly plot\n",
        "fig = px.line(covid_data, x=\"date\", y=\"metric_value\",\n",
        "              labels={\"value\": \"Count\", \"variable\": \"Metric\"},\n",
        "              title=\"Number of Patients admitted daily\")\n",
        "fig.update_traces(mode=\"lines+markers\")\n",
        "fig.show()"
      ],
      "metadata": {
        "colab": {
          "base_uri": "https://localhost:8080/",
          "height": 827
        },
        "id": "93cwceZnFkAi",
        "outputId": "3a4cdd03-03a6-4ce0-c1c3-254c5bdc565f"
      },
      "execution_count": null,
      "outputs": [
        {
          "output_type": "display_data",
          "data": {
            "text/plain": [
              "<Figure size 1200x600 with 1 Axes>"
            ],
            "image/png": "[encoded data removed]"
          },
          "metadata": {}
        },
        {
          "output_type": "display_data",
          "data": {
            "text/html": [
              "<html>\n",
              "<head><meta charset=\"utf-8\" /></head>\n",
              "<body>\n",
              "    <div>            <script src=\"https://cdnjs.cloudflare.com/ajax/libs/mathjax/2.7.5/MathJax.js?config=TeX-AMS-MML_SVG\"></script><script type=\"text/javascript\">if (window.MathJax && window.MathJax.Hub && window.MathJax.Hub.Config) {window.MathJax.Hub.Config({SVG: {font: \"STIX-Web\"}});}</script>                <script type=\"text/javascript\">window.PlotlyConfig = {MathJaxConfig: 'local'};</script>\n",
              "        <script charset=\"utf-8\" src=\"https://cdn.plot.ly/plotly-2.35.2.min.js\"></script>                <div id=\"ed3e9140-75c4-4743-91d7-77fdae6075fd\" class=\"plotly-graph-div\" style=\"height:525px; width:100%;\"></div>            <script type=\"text/javascript\">                                    window.PLOTLYENV=window.PLOTLYENV || {};                                    if (document.getElementById(\"ed3e9140-75c4-4743-91d7-77fdae6075fd\")) {                    Plotly.newPlot(                        \"ed3e9140-75c4-4743-91d7-77fdae6075fd\",                        [{\"hovertemplate\":\"date=%{x}\\u003cbr\\u003emetric_value=%{y}\\u003cextra\\u003e\\u003c\\u002fextra\\u003e\",\"legendgroup\":\"\",\"line\":{\"color\":\"#636efa\",\"dash\":\"solid\"},\"marker\":{\"symbol\":\"circle\"},\"mode\":\"lines+markers\",\"name\":\"\",\"orientation\":\"v\",\"showlegend\":false,\"x\":[\"2024-10-31T00:00:00\",\"2024-10-30T00:00:00\",\"2024-10-29T00:00:00\",\"2024-10-28T00:00:00\",\"2024-10-27T00:00:00\",\"2024-10-26T00:00:00\",\"2024-10-25T00:00:00\",\"2024-10-24T00:00:00\",\"2024-10-23T00:00:00\",\"2024-10-22T00:00:00\",\"2024-10-21T00:00:00\",\"2024-10-20T00:00:00\",\"2024-10-19T00:00:00\",\"2024-10-18T00:00:00\",\"2024-10-17T00:00:00\",\"2024-10-16T00:00:00\",\"2024-10-15T00:00:00\",\"2024-10-14T00:00:00\",\"2024-10-13T00:00:00\",\"2024-10-12T00:00:00\",\"2024-10-11T00:00:00\",\"2024-10-10T00:00:00\",\"2024-10-09T00:00:00\",\"2024-10-08T00:00:00\",\"2024-10-07T00:00:00\",\"2024-10-06T00:00:00\",\"2024-10-05T00:00:00\",\"2024-10-04T00:00:00\",\"2024-10-03T00:00:00\",\"2024-10-02T00:00:00\",\"2024-10-01T00:00:00\",\"2024-09-30T00:00:00\",\"2024-09-29T00:00:00\",\"2024-09-28T00:00:00\",\"2024-09-27T00:00:00\",\"2024-09-26T00:00:00\",\"2024-09-25T00:00:00\",\"2024-09-24T00:00:00\",\"2024-09-23T00:00:00\",\"2024-09-22T00:00:00\",\"2024-09-21T00:00:00\",\"2024-09-20T00:00:00\",\"2024-09-19T00:00:00\",\"2024-09-18T00:00:00\",\"2024-09-17T00:00:00\",\"2024-09-16T00:00:00\",\"2024-09-15T00:00:00\",\"2024-09-14T00:00:00\",\"2024-09-13T00:00:00\",\"2024-09-12T00:00:00\",\"2024-09-11T00:00:00\",\"2024-09-10T00:00:00\",\"2024-09-09T00:00:00\",\"2024-09-08T00:00:00\",\"2024-09-07T00:00:00\",\"2024-09-06T00:00:00\",\"2024-09-05T00:00:00\",\"2024-09-04T00:00:00\",\"2024-09-03T00:00:00\",\"2024-09-02T00:00:00\",\"2024-09-01T00:00:00\",\"2024-08-31T00:00:00\",\"2024-08-30T00:00:00\",\"2024-08-29T00:00:00\",\"2024-08-28T00:00:00\",\"2024-08-27T00:00:00\",\"2024-08-26T00:00:00\",\"2024-08-25T00:00:00\",\"2024-08-24T00:00:00\",\"2024-08-23T00:00:00\",\"2024-08-22T00:00:00\",\"2024-08-21T00:00:00\",\"2024-08-20T00:00:00\",\"2024-08-19T00:00:00\",\"2024-08-18T00:00:00\",\"2024-08-17T00:00:00\",\"2024-08-16T00:00:00\",\"2024-08-15T00:00:00\",\"2024-08-14T00:00:00\",\"2024-08-13T00:00:00\",\"2024-08-12T00:00:00\",\"2024-08-11T00:00:00\",\"2024-08-10T00:00:00\",\"2024-08-09T00:00:00\",\"2024-08-08T00:00:00\",\"2024-08-07T00:00:00\",\"2024-08-06T00:00:00\",\"2024-08-05T00:00:00\",\"2024-08-04T00:00:00\",\"2024-08-03T00:00:00\",\"2024-08-02T00:00:00\",\"2024-08-01T00:00:00\",\"2024-07-31T00:00:00\",\"2024-07-30T00:00:00\",\"2024-07-29T00:00:00\",\"2024-07-28T00:00:00\",\"2024-07-27T00:00:00\",\"2024-07-26T00:00:00\",\"2024-07-25T00:00:00\",\"2024-07-24T00:00:00\",\"2024-07-23T00:00:00\",\"2024-07-22T00:00:00\",\"2024-07-21T00:00:00\",\"2024-07-20T00:00:00\",\"2024-07-19T00:00:00\",\"2024-07-18T00:00:00\",\"2024-07-17T00:00:00\",\"2024-07-16T00:00:00\",\"2024-07-15T00:00:00\",\"2024-07-14T00:00:00\",\"2024-07-13T00:00:00\",\"2024-07-12T00:00:00\",\"2024-07-11T00:00:00\",\"2024-07-10T00:00:00\",\"2024-07-09T00:00:00\",\"2024-07-08T00:00:00\",\"2024-07-07T00:00:00\",\"2024-07-06T00:00:00\",\"2024-07-05T00:00:00\",\"2024-07-04T00:00:00\",\"2024-07-03T00:00:00\",\"2024-07-02T00:00:00\",\"2024-07-01T00:00:00\",\"2024-06-30T00:00:00\",\"2024-06-29T00:00:00\",\"2024-06-28T00:00:00\",\"2024-06-27T00:00:00\",\"2024-06-26T00:00:00\",\"2024-06-25T00:00:00\",\"2024-06-24T00:00:00\",\"2024-06-23T00:00:00\",\"2024-06-22T00:00:00\",\"2024-06-21T00:00:00\",\"2024-06-20T00:00:00\",\"2024-06-19T00:00:00\",\"2024-06-18T00:00:00\",\"2024-06-17T00:00:00\",\"2024-06-16T00:00:00\",\"2024-06-15T00:00:00\",\"2024-06-14T00:00:00\",\"2024-06-13T00:00:00\",\"2024-06-12T00:00:00\",\"2024-06-11T00:00:00\",\"2024-06-10T00:00:00\",\"2024-06-09T00:00:00\",\"2024-06-08T00:00:00\",\"2024-06-07T00:00:00\",\"2024-06-06T00:00:00\",\"2024-06-05T00:00:00\",\"2024-06-04T00:00:00\",\"2024-06-03T00:00:00\",\"2024-06-02T00:00:00\",\"2024-06-01T00:00:00\",\"2024-05-31T00:00:00\",\"2024-05-30T00:00:00\",\"2024-05-29T00:00:00\",\"2024-05-28T00:00:00\",\"2024-05-27T00:00:00\",\"2024-05-26T00:00:00\",\"2024-05-25T00:00:00\",\"2024-05-24T00:00:00\",\"2024-05-23T00:00:00\",\"2024-05-22T00:00:00\",\"2024-05-21T00:00:00\",\"2024-05-20T00:00:00\",\"2024-05-19T00:00:00\",\"2024-05-18T00:00:00\",\"2024-05-17T00:00:00\",\"2024-05-16T00:00:00\",\"2024-05-15T00:00:00\",\"2024-05-14T00:00:00\",\"2024-05-13T00:00:00\",\"2024-05-12T00:00:00\",\"2024-05-11T00:00:00\",\"2024-05-10T00:00:00\",\"2024-05-09T00:00:00\",\"2024-05-08T00:00:00\",\"2024-05-07T00:00:00\",\"2024-05-06T00:00:00\",\"2024-05-05T00:00:00\",\"2024-05-04T00:00:00\",\"2024-05-03T00:00:00\",\"2024-05-02T00:00:00\",\"2024-05-01T00:00:00\",\"2024-04-30T00:00:00\",\"2024-04-29T00:00:00\",\"2024-04-28T00:00:00\",\"2024-04-27T00:00:00\",\"2024-04-26T00:00:00\",\"2024-04-25T00:00:00\",\"2024-04-24T00:00:00\",\"2024-04-23T00:00:00\",\"2024-04-22T00:00:00\",\"2024-04-21T00:00:00\",\"2024-04-20T00:00:00\",\"2024-04-19T00:00:00\",\"2024-04-18T00:00:00\",\"2024-04-17T00:00:00\",\"2024-04-16T00:00:00\",\"2024-04-15T00:00:00\",\"2024-04-14T00:00:00\",\"2024-04-13T00:00:00\",\"2024-04-12T00:00:00\",\"2024-04-11T00:00:00\",\"2024-04-10T00:00:00\",\"2024-04-09T00:00:00\",\"2024-04-08T00:00:00\",\"2024-04-07T00:00:00\",\"2024-04-06T00:00:00\",\"2024-04-05T00:00:00\",\"2024-04-04T00:00:00\",\"2024-04-03T00:00:00\",\"2024-04-02T00:00:00\",\"2024-04-01T00:00:00\",\"2024-03-31T00:00:00\",\"2024-03-30T00:00:00\",\"2024-03-29T00:00:00\",\"2024-03-28T00:00:00\",\"2024-03-27T00:00:00\",\"2024-03-26T00:00:00\",\"2024-03-25T00:00:00\",\"2024-03-24T00:00:00\",\"2024-03-23T00:00:00\",\"2024-03-22T00:00:00\",\"2024-03-21T00:00:00\",\"2024-03-20T00:00:00\",\"2024-03-19T00:00:00\",\"2024-03-18T00:00:00\",\"2024-03-17T00:00:00\",\"2024-03-16T00:00:00\",\"2024-03-15T00:00:00\",\"2024-03-14T00:00:00\",\"2024-03-13T00:00:00\",\"2024-03-12T00:00:00\",\"2024-03-11T00:00:00\",\"2024-03-10T00:00:00\",\"2024-03-09T00:00:00\",\"2024-03-08T00:00:00\",\"2024-03-07T00:00:00\",\"2024-03-06T00:00:00\",\"2024-03-05T00:00:00\",\"2024-03-04T00:00:00\",\"2024-03-03T00:00:00\",\"2024-03-02T00:00:00\",\"2024-03-01T00:00:00\",\"2024-02-29T00:00:00\",\"2024-02-28T00:00:00\",\"2024-02-27T00:00:00\",\"2024-02-26T00:00:00\",\"2024-02-25T00:00:00\",\"2024-02-24T00:00:00\",\"2024-02-23T00:00:00\",\"2024-02-22T00:00:00\",\"2024-02-21T00:00:00\",\"2024-02-20T00:00:00\",\"2024-02-19T00:00:00\",\"2024-02-18T00:00:00\",\"2024-02-17T00:00:00\",\"2024-02-16T00:00:00\",\"2024-02-15T00:00:00\",\"2024-02-14T00:00:00\",\"2024-02-13T00:00:00\",\"2024-02-12T00:00:00\",\"2024-02-11T00:00:00\",\"2024-02-10T00:00:00\",\"2024-02-09T00:00:00\",\"2024-02-08T00:00:00\",\"2024-02-07T00:00:00\",\"2024-02-06T00:00:00\",\"2024-02-05T00:00:00\",\"2024-02-04T00:00:00\",\"2024-02-03T00:00:00\",\"2024-02-02T00:00:00\",\"2024-02-01T00:00:00\",\"2024-01-31T00:00:00\",\"2024-01-30T00:00:00\",\"2024-01-29T00:00:00\",\"2024-01-28T00:00:00\",\"2024-01-27T00:00:00\",\"2024-01-26T00:00:00\",\"2024-01-25T00:00:00\",\"2024-01-24T00:00:00\",\"2024-01-23T00:00:00\",\"2024-01-22T00:00:00\",\"2024-01-21T00:00:00\",\"2024-01-20T00:00:00\",\"2024-01-19T00:00:00\",\"2024-01-18T00:00:00\",\"2024-01-17T00:00:00\",\"2024-01-16T00:00:00\",\"2024-01-15T00:00:00\",\"2024-01-14T00:00:00\",\"2024-01-13T00:00:00\",\"2024-01-12T00:00:00\",\"2024-01-11T00:00:00\",\"2024-01-10T00:00:00\",\"2024-01-09T00:00:00\",\"2024-01-08T00:00:00\",\"2024-01-07T00:00:00\",\"2024-01-06T00:00:00\",\"2024-01-05T00:00:00\",\"2024-01-04T00:00:00\",\"2024-01-03T00:00:00\",\"2024-01-02T00:00:00\",\"2024-01-01T00:00:00\",\"2023-12-31T00:00:00\",\"2023-12-30T00:00:00\",\"2023-12-29T00:00:00\",\"2023-12-28T00:00:00\",\"2023-12-27T00:00:00\",\"2023-12-26T00:00:00\",\"2023-12-25T00:00:00\",\"2023-12-24T00:00:00\",\"2023-12-23T00:00:00\",\"2023-12-22T00:00:00\",\"2023-12-21T00:00:00\",\"2023-12-20T00:00:00\",\"2023-12-19T00:00:00\",\"2023-12-18T00:00:00\",\"2023-12-17T00:00:00\",\"2023-12-16T00:00:00\",\"2023-12-15T00:00:00\",\"2023-12-14T00:00:00\",\"2023-12-13T00:00:00\",\"2023-12-12T00:00:00\",\"2023-12-11T00:00:00\",\"2023-12-10T00:00:00\",\"2023-12-09T00:00:00\",\"2023-12-08T00:00:00\",\"2023-12-07T00:00:00\",\"2023-12-06T00:00:00\",\"2023-12-05T00:00:00\",\"2023-12-04T00:00:00\",\"2023-12-03T00:00:00\",\"2023-12-02T00:00:00\",\"2023-12-01T00:00:00\",\"2023-11-30T00:00:00\",\"2023-11-29T00:00:00\",\"2023-11-28T00:00:00\",\"2023-11-27T00:00:00\",\"2023-11-26T00:00:00\",\"2023-11-25T00:00:00\",\"2023-11-24T00:00:00\",\"2023-11-23T00:00:00\",\"2023-11-22T00:00:00\",\"2023-11-21T00:00:00\",\"2023-11-20T00:00:00\",\"2023-11-19T00:00:00\",\"2023-11-18T00:00:00\",\"2023-11-17T00:00:00\",\"2023-11-16T00:00:00\",\"2023-11-15T00:00:00\",\"2023-11-14T00:00:00\",\"2023-11-13T00:00:00\",\"2023-11-12T00:00:00\",\"2023-11-11T00:00:00\",\"2023-11-10T00:00:00\",\"2023-11-09T00:00:00\",\"2023-11-08T00:00:00\",\"2023-11-07T00:00:00\",\"2023-11-06T00:00:00\",\"2023-11-05T00:00:00\",\"2023-11-04T00:00:00\",\"2023-11-03T00:00:00\",\"2023-11-02T00:00:00\",\"2023-11-01T00:00:00\"],\"xaxis\":\"x\",\"y\":[253.0,282.0,285.0,317.0,281.0,251.0,293.0,354.0,379.0,367.0,447.0,401.0,320.0,364.0,460.0,525.0,473.0,429.0,418.0,284.0,319.0,391.0,474.0,437.0,520.0,503.0,361.0,385.0,409.0,407.0,498.0,415.0,354.0,288.0,302.0,373.0,377.0,439.0,431.0,412.0,335.0,304.0,385.0,393.0,355.0,357.0,344.0,224.0,234.0,240.0,251.0,270.0,256.0,256.0,174.0,182.0,242.0,240.0,239.0,241.0,233.0,182.0,199.0,233.0,222.0,253.0,232.0,191.0,170.0,164.0,195.0,227.0,222.0,240.0,257.0,198.0,230.0,255.0,269.0,277.0,303.0,274.0,221.0,219.0,342.0,295.0,335.0,366.0,351.0,277.0,332.0,419.0,423.0,452.0,423.0,362.0,310.0,317.0,372.0,459.0,470.0,455.0,442.0,361.0,427.0,483.0,501.0,481.0,458.0,513.0,342.0,367.0,425.0,463.0,490.0,443.0,425.0,322.0,323.0,404.0,405.0,387.0,387.0,378.0,293.0,302.0,411.0,467.0,457.0,424.0,413.0,321.0,343.0,444.0,436.0,449.0,396.0,391.0,277.0,290.0,328.0,324.0,332.0,327.0,294.0,192.0,207.0,274.0,253.0,281.0,260.0,213.0,189.0,206.0,263.0,276.0,255.0,219.0,198.0,186.0,197.0,237.0,254.0,272.0,244.0,273.0,183.0,221.0,271.0,296.0,322.0,299.0,301.0,205.0,260.0,298.0,375.0,351.0,332.0,287.0,227.0,215.0,312.0,355.0,314.0,330.0,269.0,177.0,221.0,232.0,251.0,219.0,229.0,200.0,131.0,137.0,184.0,176.0,199.0,177.0,171.0,129.0,144.0,198.0,171.0,171.0,186.0,169.0,126.0,136.0,174.0,166.0,200.0,197.0,136.0,130.0,152.0,161.0,195.0,187.0,175.0,171.0,128.0,124.0,158.0,170.0,149.0,184.0,190.0,116.0,148.0,185.0,206.0,234.0,195.0,169.0,149.0,147.0,193.0,211.0,200.0,189.0,157.0,112.0,156.0,167.0,159.0,162.0,199.0,185.0,136.0,183.0,198.0,247.0,264.0,261.0,234.0,199.0,248.0,315.0,264.0,298.0,290.0,282.0,235.0,270.0,327.0,374.0,416.0,426.0,418.0,357.0,319.0,403.0,436.0,482.0,458.0,419.0,322.0,361.0,478.0,571.0,597.0,554.0,547.0,429.0,458.0,502.0,558.0,527.0,555.0,438.0,355.0,387.0,503.0,503.0,517.0,506.0,455.0,421.0,489.0,566.0,636.0,649.0,584.0,525.0,527.0,580.0,615.0,673.0,605.0,456.0,382.0,422.0,453.0,549.0,617.0,652.0,599.0,534.0,400.0,413.0,458.0,510.0,476.0,514.0,483.0,348.0,307.0,364.0,455.0,420.0,430.0,380.0,263.0,255.0,305.0,324.0,332.0,327.0,302.0,215.0,231.0,283.0,291.0,295.0,280.0,281.0,216.0,233.0,282.0,316.0,313.0,314.0,303.0,251.0,238.0,351.0,338.0,356.0,361.0,362.0,294.0,289.0,379.0,378.0],\"yaxis\":\"y\",\"type\":\"scatter\"}],                        {\"template\":{\"data\":{\"histogram2dcontour\":[{\"type\":\"histogram2dcontour\",\"colorbar\":{\"outlinewidth\":0,\"ticks\":\"\"},\"colorscale\":[[0.0,\"#0d0887\"],[0.1111111111111111,\"#46039f\"],[0.2222222222222222,\"#7201a8\"],[0.3333333333333333,\"#9c179e\"],[0.4444444444444444,\"#bd3786\"],[0.5555555555555556,\"#d8576b\"],[0.6666666666666666,\"#ed7953\"],[0.7777777777777778,\"#fb9f3a\"],[0.8888888888888888,\"#fdca26\"],[1.0,\"#f0f921\"]]}],\"choropleth\":[{\"type\":\"choropleth\",\"colorbar\":{\"outlinewidth\":0,\"ticks\":\"\"}}],\"histogram2d\":[{\"type\":\"histogram2d\",\"colorbar\":{\"outlinewidth\":0,\"ticks\":\"\"},\"colorscale\":[[0.0,\"#0d0887\"],[0.1111111111111111,\"#46039f\"],[0.2222222222222222,\"#7201a8\"],[0.3333333333333333,\"#9c179e\"],[0.4444444444444444,\"#bd3786\"],[0.5555555555555556,\"#d8576b\"],[0.6666666666666666,\"#ed7953\"],[0.7777777777777778,\"#fb9f3a\"],[0.8888888888888888,\"#fdca26\"],[1.0,\"#f0f921\"]]}],\"heatmap\":[{\"type\":\"heatmap\",\"colorbar\":{\"outlinewidth\":0,\"ticks\":\"\"},\"colorscale\":[[0.0,\"#0d0887\"],[0.1111111111111111,\"#46039f\"],[0.2222222222222222,\"#7201a8\"],[0.3333333333333333,\"#9c179e\"],[0.4444444444444444,\"#bd3786\"],[0.5555555555555556,\"#d8576b\"],[0.6666666666666666,\"#ed7953\"],[0.7777777777777778,\"#fb9f3a\"],[0.8888888888888888,\"#fdca26\"],[1.0,\"#f0f921\"]]}],\"heatmapgl\":[{\"type\":\"heatmapgl\",\"colorbar\":{\"outlinewidth\":0,\"ticks\":\"\"},\"colorscale\":[[0.0,\"#0d0887\"],[0.1111111111111111,\"#46039f\"],[0.2222222222222222,\"#7201a8\"],[0.3333333333333333,\"#9c179e\"],[0.4444444444444444,\"#bd3786\"],[0.5555555555555556,\"#d8576b\"],[0.6666666666666666,\"#ed7953\"],[0.7777777777777778,\"#fb9f3a\"],[0.8888888888888888,\"#fdca26\"],[1.0,\"#f0f921\"]]}],\"contourcarpet\":[{\"type\":\"contourcarpet\",\"colorbar\":{\"outlinewidth\":0,\"ticks\":\"\"}}],\"contour\":[{\"type\":\"contour\",\"colorbar\":{\"outlinewidth\":0,\"ticks\":\"\"},\"colorscale\":[[0.0,\"#0d0887\"],[0.1111111111111111,\"#46039f\"],[0.2222222222222222,\"#7201a8\"],[0.3333333333333333,\"#9c179e\"],[0.4444444444444444,\"#bd3786\"],[0.5555555555555556,\"#d8576b\"],[0.6666666666666666,\"#ed7953\"],[0.7777777777777778,\"#fb9f3a\"],[0.8888888888888888,\"#fdca26\"],[1.0,\"#f0f921\"]]}],\"surface\":[{\"type\":\"surface\",\"colorbar\":{\"outlinewidth\":0,\"ticks\":\"\"},\"colorscale\":[[0.0,\"#0d0887\"],[0.1111111111111111,\"#46039f\"],[0.2222222222222222,\"#7201a8\"],[0.3333333333333333,\"#9c179e\"],[0.4444444444444444,\"#bd3786\"],[0.5555555555555556,\"#d8576b\"],[0.6666666666666666,\"#ed7953\"],[0.7777777777777778,\"#fb9f3a\"],[0.8888888888888888,\"#fdca26\"],[1.0,\"#f0f921\"]]}],\"mesh3d\":[{\"type\":\"mesh3d\",\"colorbar\":{\"outlinewidth\":0,\"ticks\":\"\"}}],\"scatter\":[{\"fillpattern\":{\"fillmode\":\"overlay\",\"size\":10,\"solidity\":0.2},\"type\":\"scatter\"}],\"parcoords\":[{\"type\":\"parcoords\",\"line\":{\"colorbar\":{\"outlinewidth\":0,\"ticks\":\"\"}}}],\"scatterpolargl\":[{\"type\":\"scatterpolargl\",\"marker\":{\"colorbar\":{\"outlinewidth\":0,\"ticks\":\"\"}}}],\"bar\":[{\"error_x\":{\"color\":\"#2a3f5f\"},\"error_y\":{\"color\":\"#2a3f5f\"},\"marker\":{\"line\":{\"color\":\"#E5ECF6\",\"width\":0.5},\"pattern\":{\"fillmode\":\"overlay\",\"size\":10,\"solidity\":0.2}},\"type\":\"bar\"}],\"scattergeo\":[{\"type\":\"scattergeo\",\"marker\":{\"colorbar\":{\"outlinewidth\":0,\"ticks\":\"\"}}}],\"scatterpolar\":[{\"type\":\"scatterpolar\",\"marker\":{\"colorbar\":{\"outlinewidth\":0,\"ticks\":\"\"}}}],\"histogram\":[{\"marker\":{\"pattern\":{\"fillmode\":\"overlay\",\"size\":10,\"solidity\":0.2}},\"type\":\"histogram\"}],\"scattergl\":[{\"type\":\"scattergl\",\"marker\":{\"colorbar\":{\"outlinewidth\":0,\"ticks\":\"\"}}}],\"scatter3d\":[{\"type\":\"scatter3d\",\"line\":{\"colorbar\":{\"outlinewidth\":0,\"ticks\":\"\"}},\"marker\":{\"colorbar\":{\"outlinewidth\":0,\"ticks\":\"\"}}}],\"scattermapbox\":[{\"type\":\"scattermapbox\",\"marker\":{\"colorbar\":{\"outlinewidth\":0,\"ticks\":\"\"}}}],\"scatterternary\":[{\"type\":\"scatterternary\",\"marker\":{\"colorbar\":{\"outlinewidth\":0,\"ticks\":\"\"}}}],\"scattercarpet\":[{\"type\":\"scattercarpet\",\"marker\":{\"colorbar\":{\"outlinewidth\":0,\"ticks\":\"\"}}}],\"carpet\":[{\"aaxis\":{\"endlinecolor\":\"#2a3f5f\",\"gridcolor\":\"white\",\"linecolor\":\"white\",\"minorgridcolor\":\"white\",\"startlinecolor\":\"#2a3f5f\"},\"baxis\":{\"endlinecolor\":\"#2a3f5f\",\"gridcolor\":\"white\",\"linecolor\":\"white\",\"minorgridcolor\":\"white\",\"startlinecolor\":\"#2a3f5f\"},\"type\":\"carpet\"}],\"table\":[{\"cells\":{\"fill\":{\"color\":\"#EBF0F8\"},\"line\":{\"color\":\"white\"}},\"header\":{\"fill\":{\"color\":\"#C8D4E3\"},\"line\":{\"color\":\"white\"}},\"type\":\"table\"}],\"barpolar\":[{\"marker\":{\"line\":{\"color\":\"#E5ECF6\",\"width\":0.5},\"pattern\":{\"fillmode\":\"overlay\",\"size\":10,\"solidity\":0.2}},\"type\":\"barpolar\"}],\"pie\":[{\"automargin\":true,\"type\":\"pie\"}]},\"layout\":{\"autotypenumbers\":\"strict\",\"colorway\":[\"#636efa\",\"#EF553B\",\"#00cc96\",\"#ab63fa\",\"#FFA15A\",\"#19d3f3\",\"#FF6692\",\"#B6E880\",\"#FF97FF\",\"#FECB52\"],\"font\":{\"color\":\"#2a3f5f\"},\"hovermode\":\"closest\",\"hoverlabel\":{\"align\":\"left\"},\"paper_bgcolor\":\"white\",\"plot_bgcolor\":\"#E5ECF6\",\"polar\":{\"bgcolor\":\"#E5ECF6\",\"angularaxis\":{\"gridcolor\":\"white\",\"linecolor\":\"white\",\"ticks\":\"\"},\"radialaxis\":{\"gridcolor\":\"white\",\"linecolor\":\"white\",\"ticks\":\"\"}},\"ternary\":{\"bgcolor\":\"#E5ECF6\",\"aaxis\":{\"gridcolor\":\"white\",\"linecolor\":\"white\",\"ticks\":\"\"},\"baxis\":{\"gridcolor\":\"white\",\"linecolor\":\"white\",\"ticks\":\"\"},\"caxis\":{\"gridcolor\":\"white\",\"linecolor\":\"white\",\"ticks\":\"\"}},\"coloraxis\":{\"colorbar\":{\"outlinewidth\":0,\"ticks\":\"\"}},\"colorscale\":{\"sequential\":[[0.0,\"#0d0887\"],[0.1111111111111111,\"#46039f\"],[0.2222222222222222,\"#7201a8\"],[0.3333333333333333,\"#9c179e\"],[0.4444444444444444,\"#bd3786\"],[0.5555555555555556,\"#d8576b\"],[0.6666666666666666,\"#ed7953\"],[0.7777777777777778,\"#fb9f3a\"],[0.8888888888888888,\"#fdca26\"],[1.0,\"#f0f921\"]],\"sequentialminus\":[[0.0,\"#0d0887\"],[0.1111111111111111,\"#46039f\"],[0.2222222222222222,\"#7201a8\"],[0.3333333333333333,\"#9c179e\"],[0.4444444444444444,\"#bd3786\"],[0.5555555555555556,\"#d8576b\"],[0.6666666666666666,\"#ed7953\"],[0.7777777777777778,\"#fb9f3a\"],[0.8888888888888888,\"#fdca26\"],[1.0,\"#f0f921\"]],\"diverging\":[[0,\"#8e0152\"],[0.1,\"#c51b7d\"],[0.2,\"#de77ae\"],[0.3,\"#f1b6da\"],[0.4,\"#fde0ef\"],[0.5,\"#f7f7f7\"],[0.6,\"#e6f5d0\"],[0.7,\"#b8e186\"],[0.8,\"#7fbc41\"],[0.9,\"#4d9221\"],[1,\"#276419\"]]},\"xaxis\":{\"gridcolor\":\"white\",\"linecolor\":\"white\",\"ticks\":\"\",\"title\":{\"standoff\":15},\"zerolinecolor\":\"white\",\"automargin\":true,\"zerolinewidth\":2},\"yaxis\":{\"gridcolor\":\"white\",\"linecolor\":\"white\",\"ticks\":\"\",\"title\":{\"standoff\":15},\"zerolinecolor\":\"white\",\"automargin\":true,\"zerolinewidth\":2},\"scene\":{\"xaxis\":{\"backgroundcolor\":\"#E5ECF6\",\"gridcolor\":\"white\",\"linecolor\":\"white\",\"showbackground\":true,\"ticks\":\"\",\"zerolinecolor\":\"white\",\"gridwidth\":2},\"yaxis\":{\"backgroundcolor\":\"#E5ECF6\",\"gridcolor\":\"white\",\"linecolor\":\"white\",\"showbackground\":true,\"ticks\":\"\",\"zerolinecolor\":\"white\",\"gridwidth\":2},\"zaxis\":{\"backgroundcolor\":\"#E5ECF6\",\"gridcolor\":\"white\",\"linecolor\":\"white\",\"showbackground\":true,\"ticks\":\"\",\"zerolinecolor\":\"white\",\"gridwidth\":2}},\"shapedefaults\":{\"line\":{\"color\":\"#2a3f5f\"}},\"annotationdefaults\":{\"arrowcolor\":\"#2a3f5f\",\"arrowhead\":0,\"arrowwidth\":1},\"geo\":{\"bgcolor\":\"white\",\"landcolor\":\"#E5ECF6\",\"subunitcolor\":\"white\",\"showland\":true,\"showlakes\":true,\"lakecolor\":\"white\"},\"title\":{\"x\":0.05},\"mapbox\":{\"style\":\"light\"}}},\"xaxis\":{\"anchor\":\"y\",\"domain\":[0.0,1.0],\"title\":{\"text\":\"date\"}},\"yaxis\":{\"anchor\":\"x\",\"domain\":[0.0,1.0],\"title\":{\"text\":\"metric_value\"}},\"legend\":{\"tracegroupgap\":0},\"title\":{\"text\":\"Number of Patients admitted daily\"}},                        {\"responsive\": true}                    ).then(function(){\n",
              "                            \n",
              "var gd = document.getElementById('ed3e9140-75c4-4743-91d7-77fdae6075fd');\n",
              "var x = new MutationObserver(function (mutations, observer) {{\n",
              "        var display = window.getComputedStyle(gd).display;\n",
              "        if (!display || display === 'none') {{\n",
              "            console.log([gd, 'removed!']);\n",
              "            Plotly.purge(gd);\n",
              "            observer.disconnect();\n",
              "        }}\n",
              "}});\n",
              "\n",
              "// Listen for the removal of the full notebook cells\n",
              "var notebookContainer = gd.closest('#notebook-container');\n",
              "if (notebookContainer) {{\n",
              "    x.observe(notebookContainer, {childList: true});\n",
              "}}\n",
              "\n",
              "// Listen for the clearing of the current output cell\n",
              "var outputEl = gd.closest('.output');\n",
              "if (outputEl) {{\n",
              "    x.observe(outputEl, {childList: true});\n",
              "}}\n",
              "\n",
              "                        })                };                            </script>        </div>\n",
              "</body>\n",
              "</html>"
            ]
          },
          "metadata": {}
        }
      ]
    },
    {
      "cell_type": "markdown",
      "source": [
        "### Data Story\n",
        "- **Setting:** The dataset tracks daily hospital admissions due to COVID-19 from November 2023 to October 2024.\n",
        "- **Problem:** Visualizing admission trends to evaluate healthcare system stress and assess public health intervention impacts.\n",
        "- **Resolution:** The reproduced plot highlights peaks and troughs in admissions, reflecting the pandemic's seasonality and policy impacts.\n",
        "- **Call to Action:** Insights from the chart should encourage policymakers to prepare for seasonal surges and allocate healthcare resources proactively.\n",
        "\n",
        "### Comparison Table: Reproduction Accuracy\n",
        "\n",
        "| **Aspect**          | **Seaborn**      | **Plotly**      |\n",
        "|----------------------|------------------|-----------------|\n",
        "| Visual Fidelity      | High             | Very High       |\n",
        "| Interactivity        | None             | Excellent       |\n",
        "| Customization        | Moderate         | High            |\n",
        "| Ease of Use          | Easy             | Moderate        |\n",
        "\n",
        "### Conclusion\n",
        "Both libraries effectively recreated the plot, but Plotly's interactivity and ability to dynamically explore data trends make it more suitable for engaging stakeholders. Seaborn's simplicity and aesthetic appeal remain beneficial for static reporting."
      ],
      "metadata": {
        "id": "09oscDxMp8YL"
      }
    },
    {
      "cell_type": "markdown",
      "source": [
        "."
      ],
      "metadata": {
        "id": "L7b7He_IsH-u"
      }
    },
    {
      "cell_type": "markdown",
      "source": [
        "."
      ],
      "metadata": {
        "id": "AzJf9-T7sIHt"
      }
    },
    {
      "cell_type": "markdown",
      "source": [
        "."
      ],
      "metadata": {
        "id": "xFAMNF3psINY"
      }
    },
    {
      "cell_type": "markdown",
      "source": [
        "."
      ],
      "metadata": {
        "id": "a6O0sZiEsIR9"
      }
    },
    {
      "cell_type": "markdown",
      "source": [
        "."
      ],
      "metadata": {
        "id": "uRDd-a7ZsIVn"
      }
    },
    {
      "cell_type": "markdown",
      "source": [
        "."
      ],
      "metadata": {
        "id": "uL3I6W86sIhe"
      }
    },
    {
      "cell_type": "markdown",
      "source": [
        "."
      ],
      "metadata": {
        "id": "bJKN5vJUsImj"
      }
    },
    {
      "cell_type": "markdown",
      "source": [
        "."
      ],
      "metadata": {
        "id": "rQiYRuOOsIwO"
      }
    },
    {
      "cell_type": "markdown",
      "source": [
        "."
      ],
      "metadata": {
        "id": "TXpigakDsI08"
      }
    },
    {
      "cell_type": "markdown",
      "source": [
        "."
      ],
      "metadata": {
        "id": "IV6-CtgmsI_s"
      }
    },
    {
      "cell_type": "markdown",
      "source": [
        "#  **Task 4** &Rarr;"
      ],
      "metadata": {
        "id": "CGFgkOl9HNcM"
      }
    },
    {
      "cell_type": "markdown",
      "source": [
        "## Task 4(a): Breach of Customer Data in the Retail Industry\n",
        "\n",
        "### A Significant Data Breach\n",
        "In 2020, the UK retail industry faced a significant customer data breach involving the supermarket chain **Tesco**. This breach resulted from a **credential stuffing attack**, where cybercriminals used stolen credentials from unrelated sources to gain unauthorized access to Tesco’s Clubcard accounts. As a result, personal data such as customer names, email addresses, Clubcard numbers, and shopping histories were compromised. Tesco responded swiftly by deactivating over 600,000 affected accounts and issuing new Clubcards to impacted customers.\n",
        "\n",
        "### Impact on Company Reputation and Customer Trust\n",
        "This incident damaged Tesco’s reputation and raised concerns among its customers about the security of their personal data. Although Tesco avoided a significant fine due to its rapid response, public confidence in the company's ability to safeguard sensitive information was shaken. Many customers expressed dissatisfaction with the breach, fearing their data could be used for fraudulent activities. To mitigate the backlash, Tesco implemented additional security measures, such as two-factor authentication, and reassured customers through public relations campaigns. However, the long-term impact on customer loyalty remained uncertain, highlighting the critical importance of robust cybersecurity measures in the retail sector.\n"
      ],
      "metadata": {
        "id": "J9yijYmhTuEm"
      }
    },
    {
      "cell_type": "markdown",
      "source": [
        "## Task 4(b): Data Ethics in Personalized Advertising and E-Commerce\n",
        "\n",
        "### The Conflict Between Personalization and Privacy\n",
        "Personalized advertising is a double-edged sword. While it enhances the user experience by providing tailored recommendations, it also raises serious privacy concerns. Under the **GDPR** and the UK **Data Ethics Framework**, companies must balance these competing interests by ensuring transparency and protecting customer data. GDPR requires businesses to obtain clear, informed consent from users for data collection and processing. Additionally, users have the right to access, rectify, and delete their personal data, which adds a layer of accountability to advertising algorithms.\n",
        "\n",
        "### Ethical Concerns in Algorithm Use\n",
        "Algorithms used in personalized advertising must avoid bias and ensure fairness. Without careful oversight, these systems could inadvertently discriminate against certain demographics or misuse personal data for profit-driven decisions. The principles of ethical advertising emphasize informed consent, transparency, and proportionality in data usage, ensuring that users retain control over their personal information.\n",
        "\n",
        "### Impact of Data Breaches on Ethical Advertising\n",
        "The Tesco data breach exemplifies how compromised personal data can complicate ethical advertising practices. Following such a breach, customer trust diminishes, making it challenging for companies to continue leveraging personalized services without appearing exploitative. For instance, affected customers may question whether their shopping histories, which were exposed in the breach, are being ethically utilized for targeted ads.\n",
        "\n",
        "### Recommendations for Compliance and Ethical Practices\n",
        "To address these challenges, companies must:\n",
        "1. **Implement Stronger Security Measures:** Ensure robust encryption and authentication protocols to prevent unauthorized access.\n",
        "2. **Adopt Transparent Practices:** Clearly inform customers how their data is used and provide them with options to opt out of data sharing.\n",
        "3. **Follow Ethical Guidelines:** Regularly audit algorithms to minimize bias and adhere to GDPR principles.\n",
        "4. **Focus on Rebuilding Trust:** Engage in open communication with customers and prioritize ethical data usage to maintain competitive personalized services without compromising privacy.\n",
        "\n",
        "By adhering to these recommendations, companies can navigate the complex intersection of data privacy and personalized advertising, ensuring compliance while maintaining customer loyalty.\n"
      ],
      "metadata": {
        "id": "laiqfIoETwSj"
      }
    },
    {
      "cell_type": "markdown",
      "source": [
        "#  **Reference** &Rarr;\n"
      ],
      "metadata": {
        "id": "L0UXlqo-T0wN"
      }
    },
    {
      "cell_type": "markdown",
      "source": [
        "Van Rossum, G., & Drake, F. L. (2009). *The Python language reference manual*. Python Software Foundation. \\\n",
        "\n",
        "Smith, J. (2023). *Common algorithms in resource allocation*. Springer. \\\n",
        "\n",
        "Numpy Developers. (2024). *NumPy documentation*. Retrieved from https://numpy.org/doc/ \\\n",
        "\n",
        "Python Software Foundation. (2024). *Python random module documentation*. Retrieved from https://docs.python.org/3/library/random.html \\\n",
        "\n",
        "DEFRA. (n.d.). *UK Air Quality Archive*. Retrieved from https://uk-air.defra.gov.uk/data/ \\\n",
        "\n",
        "UK Health Security Agency. (n.d.). *COVID-19 data dashboard*. Retrieved from https://coronavirus.data.gov.uk/ \\\n",
        "\n",
        "Hunter, J. D. (2007). *Matplotlib: A 2D graphics environment*. Computing in Science & Engineering, 9(3), 90-95. https://doi.org/10.1109/MCSE.2007.55 \\\n",
        "\n",
        "European Union. (2016). *General Data Protection Regulation (GDPR)*. Official Journal of the European Union. \\\n",
        "\n",
        "ICO. (2024). *Data protection case studies*. Retrieved from https://ico.org.uk/ \\\n",
        "\n",
        "UK Government. (2022). *Data Ethics Framework*. Retrieved from https://www.gov.uk/government/publications/data-ethics-framework \\"
      ],
      "metadata": {
        "id": "1Ek7nrSDT1SS"
      }
    },
    {
      "cell_type": "markdown",
      "source": [
        "."
      ],
      "metadata": {
        "id": "h3MpDB6msaB2"
      }
    },
    {
      "cell_type": "markdown",
      "source": [
        "."
      ],
      "metadata": {
        "id": "mRIG5X0qsaMK"
      }
    },
    {
      "cell_type": "markdown",
      "source": [
        "."
      ],
      "metadata": {
        "id": "LIgEAQqGsaQ2"
      }
    },
    {
      "cell_type": "markdown",
      "source": [
        "."
      ],
      "metadata": {
        "id": "x_mFsi7fsaU2"
      }
    },
    {
      "cell_type": "markdown",
      "source": [
        "."
      ],
      "metadata": {
        "id": "nH-dOVr9saXt"
      }
    },
    {
      "cell_type": "markdown",
      "source": [
        "."
      ],
      "metadata": {
        "id": "E_qs1pvXsaaf"
      }
    },
    {
      "cell_type": "markdown",
      "source": [
        "."
      ],
      "metadata": {
        "id": "zTwTFchxsadB"
      }
    },
    {
      "cell_type": "markdown",
      "source": [
        "."
      ],
      "metadata": {
        "id": "Sc7QyDT1safQ"
      }
    },
    {
      "cell_type": "markdown",
      "source": [
        "."
      ],
      "metadata": {
        "id": "GHooY46Tsah0"
      }
    },
    {
      "cell_type": "markdown",
      "source": [
        "."
      ],
      "metadata": {
        "id": "S8lEgVoF5OW9"
      }
    },
    {
      "cell_type": "markdown",
      "source": [
        "."
      ],
      "metadata": {
        "id": "d0JmYvF-5Ocd"
      }
    },
    {
      "cell_type": "markdown",
      "source": [
        "."
      ],
      "metadata": {
        "id": "7B_FuKUr5Of2"
      }
    },
    {
      "cell_type": "markdown",
      "source": [
        "."
      ],
      "metadata": {
        "id": "hvbvEQhr5OiT"
      }
    },
    {
      "cell_type": "markdown",
      "source": [
        "."
      ],
      "metadata": {
        "id": "_Ve_c2965Ok4"
      }
    },
    {
      "cell_type": "markdown",
      "source": [
        "."
      ],
      "metadata": {
        "id": "f7g-KP845OnG"
      }
    },
    {
      "cell_type": "markdown",
      "source": [
        "."
      ],
      "metadata": {
        "id": "IIe2dBtu5Oqx"
      }
    },
    {
      "cell_type": "markdown",
      "source": [
        "."
      ],
      "metadata": {
        "id": "A6hdHoYB5Otd"
      }
    },
    {
      "cell_type": "markdown",
      "source": [
        "."
      ],
      "metadata": {
        "id": "gOj7ZKUp5OvO"
      }
    },
    {
      "cell_type": "markdown",
      "source": [
        "."
      ],
      "metadata": {
        "id": "vfsv4p955OxR"
      }
    },
    {
      "cell_type": "markdown",
      "source": [
        "."
      ],
      "metadata": {
        "id": "iY52LuE85OzN"
      }
    },
    {
      "cell_type": "markdown",
      "source": [
        "."
      ],
      "metadata": {
        "id": "fBMyV7HF5O1j"
      }
    },
    {
      "cell_type": "markdown",
      "source": [
        "."
      ],
      "metadata": {
        "id": "FRDEvDm25O9f"
      }
    },
    {
      "cell_type": "markdown",
      "source": [
        "."
      ],
      "metadata": {
        "id": "rPR3zaK25O-i"
      }
    },
    {
      "cell_type": "markdown",
      "source": [
        "."
      ],
      "metadata": {
        "id": "oHa3Kt5M5PAF"
      }
    },
    {
      "cell_type": "markdown",
      "source": [
        "."
      ],
      "metadata": {
        "id": "Z--d33Oj5PCH"
      }
    },
    {
      "cell_type": "markdown",
      "source": [
        "."
      ],
      "metadata": {
        "id": "BBq3MYMh5PEZ"
      }
    },
    {
      "cell_type": "markdown",
      "source": [
        "."
      ],
      "metadata": {
        "id": "w6bXgOSm5PGz"
      }
    },
    {
      "cell_type": "markdown",
      "source": [
        "."
      ],
      "metadata": {
        "id": "GEeEOEPg5PJn"
      }
    },
    {
      "cell_type": "markdown",
      "source": [
        "."
      ],
      "metadata": {
        "id": "vLYwhqzD5PMH"
      }
    },
    {
      "cell_type": "markdown",
      "source": [
        "."
      ],
      "metadata": {
        "id": "J3FjTSUV5PO2"
      }
    },
    {
      "cell_type": "markdown",
      "source": [
        "."
      ],
      "metadata": {
        "id": "xWGVuERk5PRW"
      }
    },
    {
      "cell_type": "markdown",
      "source": [
        "."
      ],
      "metadata": {
        "id": "AhOh4WkX5PUI"
      }
    },
    {
      "cell_type": "markdown",
      "source": [
        "."
      ],
      "metadata": {
        "id": "EN_UhijC5PWp"
      }
    },
    {
      "cell_type": "markdown",
      "source": [
        "."
      ],
      "metadata": {
        "id": "WTwfzUtl5PZ1"
      }
    },
    {
      "cell_type": "markdown",
      "source": [
        "."
      ],
      "metadata": {
        "id": "mDKngHps5PcU"
      }
    },
    {
      "cell_type": "markdown",
      "source": [
        "."
      ],
      "metadata": {
        "id": "17NAmSGX5Pe7"
      }
    },
    {
      "cell_type": "markdown",
      "source": [
        "."
      ],
      "metadata": {
        "id": "MYjlQ2El5Php"
      }
    },
    {
      "cell_type": "markdown",
      "source": [
        "."
      ],
      "metadata": {
        "id": "Zb2n_jc55Pkj"
      }
    },
    {
      "cell_type": "markdown",
      "source": [
        "."
      ],
      "metadata": {
        "id": "ZJpwcWzf5PnP"
      }
    },
    {
      "cell_type": "markdown",
      "source": [
        "."
      ],
      "metadata": {
        "id": "8xKWA17S5P3v"
      }
    },
    {
      "cell_type": "code",
      "source": [
        "# Utility function to calculate relative luminance and contrast ratio\n",
        "def relative_luminance(color):\n",
        "    \"\"\"Calculate the relative luminance of an RGB hex color.\"\"\"\n",
        "    r, g, b = [int(color[i:i+2], 16) / 255.0 for i in (1, 3, 5)]\n",
        "    r = r / 12.92 if r <= 0.03928 else ((r + 0.055) / 1.055) ** 2.4\n",
        "    g = g / 12.92 if g <= 0.03928 else ((g + 0.055) / 1.055) ** 2.4\n",
        "    b = b / 12.92 if b <= 0.03928 else ((b + 0.055) / 1.055) ** 2.4\n",
        "    return 0.2126 * r + 0.7152 * g + 0.0722 * b\n",
        "\n",
        "def contrast_ratio(color1, color2):\n",
        "    \"\"\"Calculate the contrast ratio between two hex colors.\"\"\"\n",
        "    lum1 = relative_luminance(color1)\n",
        "    lum2 = relative_luminance(color2)\n",
        "    lighter = max(lum1, lum2)\n",
        "    darker = min(lum1, lum2)\n",
        "    return (lighter + 0.05) / (darker + 0.05)\n",
        "\n",
        "# Define the colors\n",
        "color_combinations = {\n",
        "    \"Primary Text vs Primary Background\": (\"#191A2F\", \"#FEF7F3\"),\n",
        "    \"Secondary Text vs Primary Background\": (\"#252D49\", \"#FEF7F3\"),\n",
        "    \"Primary Button vs Primary Background\": (\"#FEA47F\", \"#FEF7F3\"),\n",
        "    \"Accent vs Primary Background\": (\"#B4182D\", \"#FEF7F3\"),\n",
        "    \"Divider/Borders vs Primary Background\": (\"#252D49\", \"#FEF7F3\")\n",
        "}\n",
        "\n",
        "# Compute contrast ratios\n",
        "contrast_results = {pair: contrast_ratio(*colors) for pair, colors in color_combinations.items()}\n",
        "contrast_results\n"
      ],
      "metadata": {
        "colab": {
          "base_uri": "https://localhost:8080/"
        },
        "id": "uvKa_yNAQqj4",
        "outputId": "17d94f62-a1fb-48b8-e10c-168555f13f79"
      },
      "execution_count": null,
      "outputs": [
        {
          "output_type": "execute_result",
          "data": {
            "text/plain": [
              "{'Primary Text vs Primary Background': 16.106045760582237,\n",
              " 'Secondary Text vs Primary Background': 12.780520150246938,\n",
              " 'Primary Button vs Primary Background': 1.8292891064457781,\n",
              " 'Accent vs Primary Background': 6.372265947414827,\n",
              " 'Divider/Borders vs Primary Background': 12.780520150246938}"
            ]
          },
          "metadata": {},
          "execution_count": 1
        }
      ]
    },
    {
      "cell_type": "code",
      "source": [
        "# Importing Image and ImageDraw from PIL\n",
        "from PIL import Image, ImageDraw, ImageFont"
      ],
      "metadata": {
        "id": "w__jbZIUWslz"
      },
      "execution_count": null,
      "outputs": []
    },
    {
      "cell_type": "markdown",
      "source": [
        "."
      ],
      "metadata": {
        "id": "3AmU6JMq5P6f"
      }
    },
    {
      "cell_type": "code",
      "source": [
        "def create_button_states_mockup():\n",
        "    # Canvas dimensions\n",
        "    width, height = 1200, 400\n",
        "    canvas = Image.new(\"RGB\", (width, height), \"#FEF7F3\")\n",
        "    draw = ImageDraw.Draw(canvas)\n",
        "\n",
        "    # Define button states (Default, Hover, Focus, Active)\n",
        "    button_states = [\n",
        "        {\"label\": \"Default\", \"color\": \"#FEA47F\", \"text_color\": \"#191A2F\"},\n",
        "        {\"label\": \"Hover\", \"color\": \"#F98865\", \"text_color\": \"#191A2F\"},\n",
        "        {\"label\": \"Focus\", \"color\": \"#FEA47F\", \"text_color\": \"#FFFFFF\", \"border\": \"#B4182D\"},\n",
        "        {\"label\": \"Active\", \"color\": \"#E67B4D\", \"text_color\": \"#FFFFFF\"}\n",
        "    ]\n",
        "\n",
        "    # Button dimensions and layout\n",
        "    button_width, button_height = 200, 60\n",
        "    spacing = 50\n",
        "    start_x = 100\n",
        "    start_y = 150\n",
        "\n",
        "    # Draw buttons\n",
        "    for i, state in enumerate(button_states):\n",
        "        x = start_x + i * (button_width + spacing)\n",
        "        y = start_y\n",
        "        color = state[\"color\"]\n",
        "        text_color = state[\"text_color\"]\n",
        "        border = state.get(\"border\")\n",
        "\n",
        "        # Draw button background\n",
        "        if border:\n",
        "            draw.rectangle([x - 2, y - 2, x + button_width + 2, y + button_height + 2], fill=border)\n",
        "        draw.rectangle([x, y, x + button_width, y + button_height], fill=color, outline=\"#B4182D\", width=2)\n",
        "\n",
        "        # Draw button label text\n",
        "        font = ImageFont.load_default()\n",
        "        text = state[\"label\"]\n",
        "        # text_width, text_height = draw.textsize(text, font=font) # Text size no longer available in PIL ImageDraw\n",
        "        # text_width, text_height = font.getsize(text)  # Use getsize instead of textsize\n",
        "        # but getsize() is now also deprecated, Damn\n",
        "        text_bbox = font.getbbox(text)  # Get bounding box of the text\n",
        "        text_width, text_height = text_bbox[2] - text_bbox[0], text_bbox[3] - text_bbox[1]\n",
        "\n",
        "        draw.text(\n",
        "            (x + (button_width - text_width) / 2, y + (button_height - text_height) / 2),\n",
        "            text,\n",
        "            fill=text_color,\n",
        "            font=font,\n",
        "        )\n",
        "\n",
        "    return canvas\n",
        "\n",
        "\n",
        "# Create the mockup for button states\n",
        "button_states_mockup = create_button_states_mockup()\n",
        "button_states_mockup.show()\n"
      ],
      "metadata": {
        "id": "fYOekTTMSOEW"
      },
      "execution_count": null,
      "outputs": []
    },
    {
      "cell_type": "code",
      "source": [
        "# Importing Image and ImageDraw from PIL\n",
        "from PIL import Image, ImageDraw, ImageFont\n",
        "\n",
        "def create_button_states_mockup():\n",
        "    # Canvas dimensions\n",
        "    width, height = 1200, 400\n",
        "    canvas = Image.new(\"RGB\", (width, height), \"#FEF7F3\")\n",
        "    draw = ImageDraw.Draw(canvas)\n",
        "\n",
        "    # Define button states (Default, Hover, Focus, Active)\n",
        "    button_states = [\n",
        "        {\"label\": \"Default\", \"color\": \"#FEA47F\", \"text_color\": \"#191A2F\"},\n",
        "        {\"label\": \"Hover\", \"color\": \"#F98865\", \"text_color\": \"#191A2F\"},\n",
        "        {\"label\": \"Focus\", \"color\": \"#FEA47F\", \"text_color\": \"#FFFFFF\", \"border\": \"#B4182D\"},\n",
        "        {\"label\": \"Active\", \"color\": \"#E67B4D\", \"text_color\": \"#FFFFFF\"}\n",
        "    ]\n",
        "\n",
        "    # Button dimensions and layout\n",
        "    button_width, button_height = 200, 60\n",
        "    spacing = 50\n",
        "    start_x = 100\n",
        "    start_y = 150\n",
        "\n",
        "    # Draw buttons\n",
        "    for i, state in enumerate(button_states):\n",
        "        x = start_x + i * (button_width + spacing)\n",
        "        y = start_y\n",
        "        color = state[\"color\"]\n",
        "        text_color = state[\"text_color\"]\n",
        "        border = state.get(\"border\")\n",
        "\n",
        "        # Draw button background\n",
        "        if border:\n",
        "            draw.rectangle([x - 2, y - 2, x + button_width + 2, y + button_height + 2], fill=border)\n",
        "        draw.rectangle([x, y, x + button_width, y + button_height], fill=color, outline=\"#B4182D\", width=2)\n",
        "\n",
        "        # Draw button label text\n",
        "        font = ImageFont.load_default()\n",
        "        text = state[\"label\"]\n",
        "        text_bbox = font.getbbox(text)  # Get bounding box of the text\n",
        "        text_width, text_height = text_bbox[2] - text_bbox[0], text_bbox[3] - text_bbox[1]\n",
        "        draw.text(\n",
        "            (x + (button_width - text_width) / 2, y + (button_height - text_height) / 2),\n",
        "            text,\n",
        "            fill=text_color,\n",
        "            font=font,\n",
        "        )\n",
        "\n",
        "    return canvas\n",
        "\n",
        "# Create the mockup for button states\n",
        "button_states_mockup = create_button_states_mockup()\n",
        "button_states_mockup.show()\n"
      ],
      "metadata": {
        "id": "2WtvASYEX-N4"
      },
      "execution_count": null,
      "outputs": []
    },
    {
      "cell_type": "code",
      "source": [
        "# Using mathplotlibe as Google colabs and Jupyter notebooks / Interactive Python does display inline output as based on their interactiveness and environment setup.\n",
        "\n",
        "# Importing necessary libraries\n",
        "from PIL import Image, ImageDraw, ImageFont\n",
        "import matplotlib.pyplot as plt\n",
        "\n",
        "def create_button_states_mockup():\n",
        "    # Canvas dimensions\n",
        "    width, height = 1200, 400\n",
        "    canvas = Image.new(\"RGB\", (width, height), \"#FEF7F3\")\n",
        "    draw = ImageDraw.Draw(canvas)\n",
        "\n",
        "    # Define button states (Default, Hover, Focus, Active)\n",
        "    button_states = [\n",
        "        {\"label\": \"Default\", \"color\": \"#FEA47F\", \"text_color\": \"#191A2F\"},\n",
        "        {\"label\": \"Hover\", \"color\": \"#F98865\", \"text_color\": \"#191A2F\"},\n",
        "        {\"label\": \"Focus\", \"color\": \"#FEA47F\", \"text_color\": \"#FFFFFF\", \"border\": \"#B4182D\"},\n",
        "        {\"label\": \"Active\", \"color\": \"#E67B4D\", \"text_color\": \"#FFFFFF\"}\n",
        "    ]\n",
        "\n",
        "    # Button dimensions and layout\n",
        "    button_width, button_height = 200, 60\n",
        "    spacing = 50\n",
        "    start_x = 100\n",
        "    start_y = 150\n",
        "\n",
        "    # Draw buttons\n",
        "    for i, state in enumerate(button_states):\n",
        "        x = start_x + i * (button_width + spacing)\n",
        "        y = start_y\n",
        "        color = state[\"color\"]\n",
        "        text_color = state[\"text_color\"]\n",
        "        border = state.get(\"border\")\n",
        "\n",
        "        # Draw button background\n",
        "        if border:\n",
        "            draw.rectangle([x - 2, y - 2, x + button_width + 2, y + button_height + 2], fill=border)\n",
        "        draw.rectangle([x, y, x + button_width, y + button_height], fill=color, outline=\"#B4182D\", width=2)\n",
        "\n",
        "        # Draw button label text\n",
        "        font = ImageFont.load_default()\n",
        "        text = state[\"label\"]\n",
        "        text_bbox = font.getbbox(text)  # Get bounding box of the text\n",
        "        text_width, text_height = text_bbox[2] - text_bbox[0], text_bbox[3] - text_bbox[1]\n",
        "        draw.text(\n",
        "            (x + (button_width - text_width) / 2, y + (button_height - text_height) / 2),\n",
        "            text,\n",
        "            fill=text_color,\n",
        "            font=font,\n",
        "        )\n",
        "\n",
        "    return canvas\n",
        "\n",
        "# Create the mockup for button states\n",
        "button_states_mockup = create_button_states_mockup()\n",
        "\n",
        "# Display the image using matplotlib\n",
        "plt.figure(figsize=(10, 5))\n",
        "plt.imshow(button_states_mockup)\n",
        "plt.axis(\"off\")  # Hide axes for a cleaner look\n",
        "plt.show()\n"
      ],
      "metadata": {
        "colab": {
          "base_uri": "https://localhost:8080/",
          "height": 205
        },
        "id": "XvJeNnecZNYC",
        "outputId": "5b5d3f60-520d-41e8-da78-d542fd631f2a"
      },
      "execution_count": null,
      "outputs": [
        {
          "output_type": "display_data",
          "data": {
            "text/plain": [
              "<Figure size 1000x500 with 1 Axes>"
            ],
            "image/png": "[encoded data removed]"
          },
          "metadata": {}
        }
      ]
    },
    {
      "cell_type": "markdown",
      "source": [
        "."
      ],
      "metadata": {
        "id": "UcgBrm8E5P9N"
      }
    },
    {
      "cell_type": "markdown",
      "source": [
        "."
      ],
      "metadata": {
        "id": "owdksGng5P_a"
      }
    },
    {
      "cell_type": "markdown",
      "source": [
        "."
      ],
      "metadata": {
        "id": "qeAecbEy5QBv"
      }
    },
    {
      "cell_type": "markdown",
      "source": [
        "."
      ],
      "metadata": {
        "id": "mdG6Gwdp5QEW"
      }
    },
    {
      "cell_type": "markdown",
      "source": [
        "."
      ],
      "metadata": {
        "id": "aaH-YxhO5QHA"
      }
    },
    {
      "cell_type": "markdown",
      "source": [
        "."
      ],
      "metadata": {
        "id": "KuyRSolR5QJq"
      }
    },
    {
      "cell_type": "markdown",
      "source": [
        "."
      ],
      "metadata": {
        "id": "hKb8B-a55QMC"
      }
    },
    {
      "cell_type": "markdown",
      "source": [
        "."
      ],
      "metadata": {
        "id": "e1k1lnuPsakJ"
      }
    },
    {
      "cell_type": "markdown",
      "source": [
        "."
      ],
      "metadata": {
        "id": "tnfFmAvSsamj"
      }
    },
    {
      "cell_type": "markdown",
      "source": [
        "."
      ],
      "metadata": {
        "id": "q7kXJilVsaoh"
      }
    },
    {
      "cell_type": "markdown",
      "source": [
        "."
      ],
      "metadata": {
        "id": "ygeAYxrmsaqr"
      }
    },
    {
      "cell_type": "markdown",
      "source": [
        "."
      ],
      "metadata": {
        "id": "aeTtKvKjsawi"
      }
    },
    {
      "cell_type": "markdown",
      "source": [
        "."
      ],
      "metadata": {
        "id": "EyrgwwP9sazu"
      }
    },
    {
      "cell_type": "markdown",
      "source": [
        "."
      ],
      "metadata": {
        "id": "cYrwVVsrsbdW"
      }
    },
    {
      "cell_type": "markdown",
      "source": [
        "."
      ],
      "metadata": {
        "id": "zMy06gJ9sbgn"
      }
    },
    {
      "cell_type": "markdown",
      "source": [
        "."
      ],
      "metadata": {
        "id": "9t-zgTuQsbjs"
      }
    },
    {
      "cell_type": "markdown",
      "source": [
        "."
      ],
      "metadata": {
        "id": "5CcGqsVKsbmz"
      }
    },
    {
      "cell_type": "markdown",
      "source": [
        "."
      ],
      "metadata": {
        "id": "UjrY2gkRsbqM"
      }
    },
    {
      "cell_type": "markdown",
      "source": [
        "."
      ],
      "metadata": {
        "id": "kz9orLbzsbtM"
      }
    },
    {
      "cell_type": "markdown",
      "source": [
        "."
      ],
      "metadata": {
        "id": "zePsEpDQsbvd"
      }
    }
  ]
}